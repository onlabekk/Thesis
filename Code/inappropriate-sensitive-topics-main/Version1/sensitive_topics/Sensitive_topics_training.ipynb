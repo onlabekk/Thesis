{
  "nbformat": 4,
  "nbformat_minor": 0,
  "metadata": {
    "kernelspec": {
      "display_name": "Python 3",
      "language": "python",
      "name": "python3"
    },
    "language_info": {
      "codemirror_mode": {
        "name": "ipython",
        "version": 3
      },
      "file_extension": ".py",
      "mimetype": "text/x-python",
      "name": "python",
      "nbconvert_exporter": "python",
      "pygments_lexer": "ipython3",
      "version": "3.7.3"
    },
    "colab": {
      "name": "Sensitive_topics_training.ipynb",
      "provenance": [],
      "collapsed_sections": []
    },
    "accelerator": "GPU"
  },
  "cells": [
    {
      "cell_type": "markdown",
      "metadata": {
        "id": "Ai3tzEXzHhxJ"
      },
      "source": [
        "# Installing packages"
      ]
    },
    {
      "cell_type": "code",
      "metadata": {
        "scrolled": true,
        "id": "kiYhxW9R6Kg2",
        "colab": {
          "base_uri": "https://localhost:8080/"
        },
        "outputId": "25eaf488-423b-41c5-c1d9-403c08e4d359"
      },
      "source": [
        "!pip install --upgrade pip\n",
        "!pip install deeppavlov\n",
        "!python -m deeppavlov install squad_bert\n",
        "!pip uninstall tensorflow\n",
        "!pip install tensorflow-gpu==1.15.2\n",
        "!pip install transformers==2.8.0"
      ],
      "execution_count": 2,
      "outputs": [
        {
          "output_type": "stream",
          "text": [
            "Requirement already satisfied: pip in /usr/local/lib/python3.7/dist-packages (21.0.1)\n",
            "Requirement already satisfied: deeppavlov in /usr/local/lib/python3.7/dist-packages (0.14.0)\n",
            "Requirement already satisfied: pandas==0.25.3 in /usr/local/lib/python3.7/dist-packages (from deeppavlov) (0.25.3)\n",
            "Requirement already satisfied: filelock==3.0.12 in /usr/local/lib/python3.7/dist-packages (from deeppavlov) (3.0.12)\n",
            "Requirement already satisfied: pyopenssl==19.1.0 in /usr/local/lib/python3.7/dist-packages (from deeppavlov) (19.1.0)\n",
            "Requirement already satisfied: pymorphy2==0.8 in /usr/local/lib/python3.7/dist-packages (from deeppavlov) (0.8)\n",
            "Requirement already satisfied: pymorphy2-dicts-ru in /usr/local/lib/python3.7/dist-packages (from deeppavlov) (2.4.417127.4579844)\n",
            "Requirement already satisfied: sacremoses==0.0.35 in /usr/local/lib/python3.7/dist-packages (from deeppavlov) (0.0.35)\n",
            "Requirement already satisfied: pydantic==1.3 in /usr/local/lib/python3.7/dist-packages (from deeppavlov) (1.3)\n",
            "Requirement already satisfied: rusenttokenize==0.0.5 in /usr/local/lib/python3.7/dist-packages (from deeppavlov) (0.0.5)\n",
            "Requirement already satisfied: tqdm==4.41.1 in /usr/local/lib/python3.7/dist-packages (from deeppavlov) (4.41.1)\n",
            "Requirement already satisfied: numpy==1.18.0 in /usr/local/lib/python3.7/dist-packages (from deeppavlov) (1.18.0)\n",
            "Requirement already satisfied: pytz==2019.1 in /usr/local/lib/python3.7/dist-packages (from deeppavlov) (2019.1)\n",
            "Requirement already satisfied: h5py==2.10.0 in /usr/local/lib/python3.7/dist-packages (from deeppavlov) (2.10.0)\n",
            "Requirement already satisfied: ruamel.yaml==0.15.100 in /usr/local/lib/python3.7/dist-packages (from deeppavlov) (0.15.100)\n",
            "Requirement already satisfied: fastapi==0.47.1 in /usr/local/lib/python3.7/dist-packages (from deeppavlov) (0.47.1)\n",
            "Requirement already satisfied: uvicorn==0.11.7 in /usr/local/lib/python3.7/dist-packages (from deeppavlov) (0.11.7)\n",
            "Requirement already satisfied: requests==2.22.0 in /usr/local/lib/python3.7/dist-packages (from deeppavlov) (2.22.0)\n",
            "Requirement already satisfied: click==7.1.2 in /usr/local/lib/python3.7/dist-packages (from deeppavlov) (7.1.2)\n",
            "Requirement already satisfied: nltk==3.4.5 in /usr/local/lib/python3.7/dist-packages (from deeppavlov) (3.4.5)\n",
            "Requirement already satisfied: scikit-learn==0.21.2 in /usr/local/lib/python3.7/dist-packages (from deeppavlov) (0.21.2)\n",
            "Requirement already satisfied: overrides==2.7.0 in /usr/local/lib/python3.7/dist-packages (from deeppavlov) (2.7.0)\n",
            "Requirement already satisfied: scipy==1.4.1 in /usr/local/lib/python3.7/dist-packages (from deeppavlov) (1.4.1)\n",
            "Requirement already satisfied: Cython==0.29.14 in /usr/local/lib/python3.7/dist-packages (from deeppavlov) (0.29.14)\n",
            "Requirement already satisfied: pytelegrambotapi==3.6.7 in /usr/local/lib/python3.7/dist-packages (from deeppavlov) (3.6.7)\n",
            "Requirement already satisfied: prometheus-client==0.7.1 in /usr/local/lib/python3.7/dist-packages (from deeppavlov) (0.7.1)\n",
            "Requirement already satisfied: aio-pika==6.4.1 in /usr/local/lib/python3.7/dist-packages (from deeppavlov) (6.4.1)\n",
            "Requirement already satisfied: aiormq<4,>=3.2.0 in /usr/local/lib/python3.7/dist-packages (from aio-pika==6.4.1->deeppavlov) (3.3.1)\n",
            "Requirement already satisfied: yarl in /usr/local/lib/python3.7/dist-packages (from aio-pika==6.4.1->deeppavlov) (1.6.3)\n",
            "Requirement already satisfied: starlette<=0.12.9,>=0.12.9 in /usr/local/lib/python3.7/dist-packages (from fastapi==0.47.1->deeppavlov) (0.12.9)\n",
            "Requirement already satisfied: six in /usr/local/lib/python3.7/dist-packages (from h5py==2.10.0->deeppavlov) (1.15.0)\n",
            "Requirement already satisfied: python-dateutil>=2.6.1 in /usr/local/lib/python3.7/dist-packages (from pandas==0.25.3->deeppavlov) (2.8.1)\n",
            "Requirement already satisfied: docopt>=0.6 in /usr/local/lib/python3.7/dist-packages (from pymorphy2==0.8->deeppavlov) (0.6.2)\n",
            "Requirement already satisfied: pymorphy2-dicts<3.0,>=2.4 in /usr/local/lib/python3.7/dist-packages (from pymorphy2==0.8->deeppavlov) (2.4.393442.3710985)\n",
            "Requirement already satisfied: dawg-python>=0.7 in /usr/local/lib/python3.7/dist-packages (from pymorphy2==0.8->deeppavlov) (0.7.2)\n",
            "Requirement already satisfied: cryptography>=2.8 in /usr/local/lib/python3.7/dist-packages (from pyopenssl==19.1.0->deeppavlov) (3.4.6)\n",
            "Requirement already satisfied: idna<2.9,>=2.5 in /usr/local/lib/python3.7/dist-packages (from requests==2.22.0->deeppavlov) (2.8)\n",
            "Requirement already satisfied: certifi>=2017.4.17 in /usr/local/lib/python3.7/dist-packages (from requests==2.22.0->deeppavlov) (2020.12.5)\n",
            "Requirement already satisfied: urllib3!=1.25.0,!=1.25.1,<1.26,>=1.21.1 in /usr/local/lib/python3.7/dist-packages (from requests==2.22.0->deeppavlov) (1.25.11)\n",
            "Requirement already satisfied: chardet<3.1.0,>=3.0.2 in /usr/local/lib/python3.7/dist-packages (from requests==2.22.0->deeppavlov) (3.0.4)\n",
            "Requirement already satisfied: joblib in /usr/local/lib/python3.7/dist-packages (from sacremoses==0.0.35->deeppavlov) (1.0.1)\n",
            "Requirement already satisfied: websockets==8.* in /usr/local/lib/python3.7/dist-packages (from uvicorn==0.11.7->deeppavlov) (8.1)\n",
            "Requirement already satisfied: h11<0.10,>=0.8 in /usr/local/lib/python3.7/dist-packages (from uvicorn==0.11.7->deeppavlov) (0.9.0)\n",
            "Requirement already satisfied: uvloop>=0.14.0 in /usr/local/lib/python3.7/dist-packages (from uvicorn==0.11.7->deeppavlov) (0.15.2)\n",
            "Requirement already satisfied: httptools==0.1.* in /usr/local/lib/python3.7/dist-packages (from uvicorn==0.11.7->deeppavlov) (0.1.1)\n",
            "Requirement already satisfied: pamqp==2.3.0 in /usr/local/lib/python3.7/dist-packages (from aiormq<4,>=3.2.0->aio-pika==6.4.1->deeppavlov) (2.3.0)\n",
            "Requirement already satisfied: cffi>=1.12 in /usr/local/lib/python3.7/dist-packages (from cryptography>=2.8->pyopenssl==19.1.0->deeppavlov) (1.14.5)\n",
            "Requirement already satisfied: pycparser in /usr/local/lib/python3.7/dist-packages (from cffi>=1.12->cryptography>=2.8->pyopenssl==19.1.0->deeppavlov) (2.20)\n",
            "Requirement already satisfied: multidict>=4.0 in /usr/local/lib/python3.7/dist-packages (from yarl->aio-pika==6.4.1->deeppavlov) (5.1.0)\n",
            "Requirement already satisfied: typing-extensions>=3.7.4 in /usr/local/lib/python3.7/dist-packages (from yarl->aio-pika==6.4.1->deeppavlov) (3.7.4.3)\n",
            "2021-03-05 08:52:29.951 INFO in 'deeppavlov.core.common.file'['file'] at line 32: Interpreting 'squad_bert' as '/usr/local/lib/python3.7/dist-packages/deeppavlov/configs/squad/squad_bert.json'\n",
            "Collecting git+https://github.com/deepmipt/bert.git@feat/multi_gpu\n",
            "  Cloning https://github.com/deepmipt/bert.git (to revision feat/multi_gpu) to /tmp/pip-req-build-fmxrmyrj\n",
            "  Running command git clone -q https://github.com/deepmipt/bert.git /tmp/pip-req-build-fmxrmyrj\n",
            "2021-03-05 08:52:34.761 WARNING in 'deeppavlov.utils.pip_wrapper.pip_wrapper'['pip_wrapper'] at line 34: found tensorflow-gpu installed, so upgrading it instead of tensorflow\n",
            "Requirement already satisfied: tensorflow-gpu==1.15.2 in /usr/local/lib/python3.7/dist-packages (1.15.2)\n",
            "Requirement already satisfied: tensorboard<1.16.0,>=1.15.0 in /usr/local/lib/python3.7/dist-packages (from tensorflow-gpu==1.15.2) (1.15.0)\n",
            "Requirement already satisfied: six>=1.10.0 in /usr/local/lib/python3.7/dist-packages (from tensorflow-gpu==1.15.2) (1.15.0)\n",
            "Requirement already satisfied: termcolor>=1.1.0 in /usr/local/lib/python3.7/dist-packages (from tensorflow-gpu==1.15.2) (1.1.0)\n",
            "Requirement already satisfied: numpy<2.0,>=1.16.0 in /usr/local/lib/python3.7/dist-packages (from tensorflow-gpu==1.15.2) (1.18.0)\n",
            "Requirement already satisfied: protobuf>=3.6.1 in /usr/local/lib/python3.7/dist-packages (from tensorflow-gpu==1.15.2) (3.12.4)\n",
            "Requirement already satisfied: wrapt>=1.11.1 in /usr/local/lib/python3.7/dist-packages (from tensorflow-gpu==1.15.2) (1.12.1)\n",
            "Requirement already satisfied: tensorflow-estimator==1.15.1 in /usr/local/lib/python3.7/dist-packages (from tensorflow-gpu==1.15.2) (1.15.1)\n",
            "Requirement already satisfied: wheel>=0.26 in /usr/local/lib/python3.7/dist-packages (from tensorflow-gpu==1.15.2) (0.36.2)\n",
            "Requirement already satisfied: absl-py>=0.7.0 in /usr/local/lib/python3.7/dist-packages (from tensorflow-gpu==1.15.2) (0.10.0)\n",
            "Requirement already satisfied: grpcio>=1.8.6 in /usr/local/lib/python3.7/dist-packages (from tensorflow-gpu==1.15.2) (1.32.0)\n",
            "Requirement already satisfied: keras-preprocessing>=1.0.5 in /usr/local/lib/python3.7/dist-packages (from tensorflow-gpu==1.15.2) (1.1.2)\n",
            "Requirement already satisfied: google-pasta>=0.1.6 in /usr/local/lib/python3.7/dist-packages (from tensorflow-gpu==1.15.2) (0.2.0)\n",
            "Requirement already satisfied: keras-applications>=1.0.8 in /usr/local/lib/python3.7/dist-packages (from tensorflow-gpu==1.15.2) (1.0.8)\n",
            "Requirement already satisfied: gast==0.2.2 in /usr/local/lib/python3.7/dist-packages (from tensorflow-gpu==1.15.2) (0.2.2)\n",
            "Requirement already satisfied: opt-einsum>=2.3.2 in /usr/local/lib/python3.7/dist-packages (from tensorflow-gpu==1.15.2) (3.3.0)\n",
            "Requirement already satisfied: astor>=0.6.0 in /usr/local/lib/python3.7/dist-packages (from tensorflow-gpu==1.15.2) (0.8.1)\n",
            "Requirement already satisfied: h5py in /usr/local/lib/python3.7/dist-packages (from keras-applications>=1.0.8->tensorflow-gpu==1.15.2) (2.10.0)\n",
            "Requirement already satisfied: setuptools in /usr/local/lib/python3.7/dist-packages (from protobuf>=3.6.1->tensorflow-gpu==1.15.2) (54.0.0)\n",
            "Requirement already satisfied: markdown>=2.6.8 in /usr/local/lib/python3.7/dist-packages (from tensorboard<1.16.0,>=1.15.0->tensorflow-gpu==1.15.2) (3.3.4)\n",
            "Requirement already satisfied: werkzeug>=0.11.15 in /usr/local/lib/python3.7/dist-packages (from tensorboard<1.16.0,>=1.15.0->tensorflow-gpu==1.15.2) (1.0.1)\n",
            "Requirement already satisfied: importlib-metadata in /usr/local/lib/python3.7/dist-packages (from markdown>=2.6.8->tensorboard<1.16.0,>=1.15.0->tensorflow-gpu==1.15.2) (3.7.0)\n",
            "Requirement already satisfied: typing-extensions>=3.6.4 in /usr/local/lib/python3.7/dist-packages (from importlib-metadata->markdown>=2.6.8->tensorboard<1.16.0,>=1.15.0->tensorflow-gpu==1.15.2) (3.7.4.3)\n",
            "Requirement already satisfied: zipp>=0.5 in /usr/local/lib/python3.7/dist-packages (from importlib-metadata->markdown>=2.6.8->tensorboard<1.16.0,>=1.15.0->tensorflow-gpu==1.15.2) (3.4.0)\n",
            "\u001b[33mWARNING: Skipping tensorflow as it is not installed.\u001b[0m\n",
            "Requirement already satisfied: tensorflow-gpu==1.15.2 in /usr/local/lib/python3.7/dist-packages (1.15.2)\n",
            "Requirement already satisfied: google-pasta>=0.1.6 in /usr/local/lib/python3.7/dist-packages (from tensorflow-gpu==1.15.2) (0.2.0)\n",
            "Requirement already satisfied: keras-preprocessing>=1.0.5 in /usr/local/lib/python3.7/dist-packages (from tensorflow-gpu==1.15.2) (1.1.2)\n",
            "Requirement already satisfied: protobuf>=3.6.1 in /usr/local/lib/python3.7/dist-packages (from tensorflow-gpu==1.15.2) (3.12.4)\n",
            "Requirement already satisfied: opt-einsum>=2.3.2 in /usr/local/lib/python3.7/dist-packages (from tensorflow-gpu==1.15.2) (3.3.0)\n",
            "Requirement already satisfied: keras-applications>=1.0.8 in /usr/local/lib/python3.7/dist-packages (from tensorflow-gpu==1.15.2) (1.0.8)\n",
            "Requirement already satisfied: numpy<2.0,>=1.16.0 in /usr/local/lib/python3.7/dist-packages (from tensorflow-gpu==1.15.2) (1.18.0)\n",
            "Requirement already satisfied: gast==0.2.2 in /usr/local/lib/python3.7/dist-packages (from tensorflow-gpu==1.15.2) (0.2.2)\n",
            "Requirement already satisfied: termcolor>=1.1.0 in /usr/local/lib/python3.7/dist-packages (from tensorflow-gpu==1.15.2) (1.1.0)\n",
            "Requirement already satisfied: absl-py>=0.7.0 in /usr/local/lib/python3.7/dist-packages (from tensorflow-gpu==1.15.2) (0.10.0)\n",
            "Requirement already satisfied: wrapt>=1.11.1 in /usr/local/lib/python3.7/dist-packages (from tensorflow-gpu==1.15.2) (1.12.1)\n",
            "Requirement already satisfied: wheel>=0.26 in /usr/local/lib/python3.7/dist-packages (from tensorflow-gpu==1.15.2) (0.36.2)\n",
            "Requirement already satisfied: tensorboard<1.16.0,>=1.15.0 in /usr/local/lib/python3.7/dist-packages (from tensorflow-gpu==1.15.2) (1.15.0)\n",
            "Requirement already satisfied: grpcio>=1.8.6 in /usr/local/lib/python3.7/dist-packages (from tensorflow-gpu==1.15.2) (1.32.0)\n",
            "Requirement already satisfied: astor>=0.6.0 in /usr/local/lib/python3.7/dist-packages (from tensorflow-gpu==1.15.2) (0.8.1)\n",
            "Requirement already satisfied: tensorflow-estimator==1.15.1 in /usr/local/lib/python3.7/dist-packages (from tensorflow-gpu==1.15.2) (1.15.1)\n",
            "Requirement already satisfied: six>=1.10.0 in /usr/local/lib/python3.7/dist-packages (from tensorflow-gpu==1.15.2) (1.15.0)\n",
            "Requirement already satisfied: h5py in /usr/local/lib/python3.7/dist-packages (from keras-applications>=1.0.8->tensorflow-gpu==1.15.2) (2.10.0)\n",
            "Requirement already satisfied: setuptools in /usr/local/lib/python3.7/dist-packages (from protobuf>=3.6.1->tensorflow-gpu==1.15.2) (54.0.0)\n",
            "Requirement already satisfied: markdown>=2.6.8 in /usr/local/lib/python3.7/dist-packages (from tensorboard<1.16.0,>=1.15.0->tensorflow-gpu==1.15.2) (3.3.4)\n",
            "Requirement already satisfied: werkzeug>=0.11.15 in /usr/local/lib/python3.7/dist-packages (from tensorboard<1.16.0,>=1.15.0->tensorflow-gpu==1.15.2) (1.0.1)\n",
            "Requirement already satisfied: importlib-metadata in /usr/local/lib/python3.7/dist-packages (from markdown>=2.6.8->tensorboard<1.16.0,>=1.15.0->tensorflow-gpu==1.15.2) (3.7.0)\n",
            "Requirement already satisfied: typing-extensions>=3.6.4 in /usr/local/lib/python3.7/dist-packages (from importlib-metadata->markdown>=2.6.8->tensorboard<1.16.0,>=1.15.0->tensorflow-gpu==1.15.2) (3.7.4.3)\n",
            "Requirement already satisfied: zipp>=0.5 in /usr/local/lib/python3.7/dist-packages (from importlib-metadata->markdown>=2.6.8->tensorboard<1.16.0,>=1.15.0->tensorflow-gpu==1.15.2) (3.4.0)\n",
            "Requirement already satisfied: transformers==2.8.0 in /usr/local/lib/python3.7/dist-packages (2.8.0)\n",
            "Requirement already satisfied: filelock in /usr/local/lib/python3.7/dist-packages (from transformers==2.8.0) (3.0.12)\n",
            "Requirement already satisfied: sacremoses in /usr/local/lib/python3.7/dist-packages (from transformers==2.8.0) (0.0.35)\n",
            "Requirement already satisfied: boto3 in /usr/local/lib/python3.7/dist-packages (from transformers==2.8.0) (1.17.21)\n",
            "Requirement already satisfied: requests in /usr/local/lib/python3.7/dist-packages (from transformers==2.8.0) (2.22.0)\n",
            "Requirement already satisfied: sentencepiece in /usr/local/lib/python3.7/dist-packages (from transformers==2.8.0) (0.1.95)\n",
            "Requirement already satisfied: tokenizers==0.5.2 in /usr/local/lib/python3.7/dist-packages (from transformers==2.8.0) (0.5.2)\n",
            "Requirement already satisfied: tqdm>=4.27 in /usr/local/lib/python3.7/dist-packages (from transformers==2.8.0) (4.41.1)\n",
            "Requirement already satisfied: regex!=2019.12.17 in /usr/local/lib/python3.7/dist-packages (from transformers==2.8.0) (2019.12.20)\n",
            "Requirement already satisfied: numpy in /usr/local/lib/python3.7/dist-packages (from transformers==2.8.0) (1.18.0)\n",
            "Requirement already satisfied: botocore<1.21.0,>=1.20.21 in /usr/local/lib/python3.7/dist-packages (from boto3->transformers==2.8.0) (1.20.21)\n",
            "Requirement already satisfied: jmespath<1.0.0,>=0.7.1 in /usr/local/lib/python3.7/dist-packages (from boto3->transformers==2.8.0) (0.10.0)\n",
            "Requirement already satisfied: s3transfer<0.4.0,>=0.3.0 in /usr/local/lib/python3.7/dist-packages (from boto3->transformers==2.8.0) (0.3.4)\n",
            "Requirement already satisfied: python-dateutil<3.0.0,>=2.1 in /usr/local/lib/python3.7/dist-packages (from botocore<1.21.0,>=1.20.21->boto3->transformers==2.8.0) (2.8.1)\n",
            "Requirement already satisfied: urllib3<1.27,>=1.25.4 in /usr/local/lib/python3.7/dist-packages (from botocore<1.21.0,>=1.20.21->boto3->transformers==2.8.0) (1.25.11)\n",
            "Requirement already satisfied: six>=1.5 in /usr/local/lib/python3.7/dist-packages (from python-dateutil<3.0.0,>=2.1->botocore<1.21.0,>=1.20.21->boto3->transformers==2.8.0) (1.15.0)\n",
            "Requirement already satisfied: idna<2.9,>=2.5 in /usr/local/lib/python3.7/dist-packages (from requests->transformers==2.8.0) (2.8)\n",
            "Requirement already satisfied: chardet<3.1.0,>=3.0.2 in /usr/local/lib/python3.7/dist-packages (from requests->transformers==2.8.0) (3.0.4)\n",
            "Requirement already satisfied: certifi>=2017.4.17 in /usr/local/lib/python3.7/dist-packages (from requests->transformers==2.8.0) (2020.12.5)\n",
            "Requirement already satisfied: joblib in /usr/local/lib/python3.7/dist-packages (from sacremoses->transformers==2.8.0) (1.0.1)\n",
            "Requirement already satisfied: click in /usr/local/lib/python3.7/dist-packages (from sacremoses->transformers==2.8.0) (7.1.2)\n"
          ],
          "name": "stdout"
        }
      ]
    },
    {
      "cell_type": "markdown",
      "metadata": {
        "id": "sawQcOvAVVR9"
      },
      "source": [
        "Make sure tensorflow can see GPU"
      ]
    },
    {
      "cell_type": "code",
      "metadata": {
        "colab": {
          "base_uri": "https://localhost:8080/"
        },
        "id": "DLkiuW7B6Kg3",
        "outputId": "63905726-b1c1-4bff-edec-b6e3425b606b"
      },
      "source": [
        "import tensorflow as tf\n",
        "print(\"Num GPUs Available: \", len(tf.config.experimental.list_physical_devices('GPU')))\n",
        "print(\"=\"*100)\n",
        "from tensorflow.python.client import device_lib\n",
        "print(device_lib.list_local_devices())\n",
        "print(\"=\"*100)\n",
        "from tensorflow.python.client import device_lib\n",
        "def get_available_gpus():\n",
        "    local_device_protos = device_lib.list_local_devices()\n",
        "    return [x.name for x in local_device_protos if x.device_type == 'GPU']\n",
        "get_available_gpus()"
      ],
      "execution_count": 2,
      "outputs": [
        {
          "output_type": "stream",
          "text": [
            "Num GPUs Available:  0\n",
            "====================================================================================================\n",
            "[name: \"/device:CPU:0\"\n",
            "device_type: \"CPU\"\n",
            "memory_limit: 268435456\n",
            "locality {\n",
            "}\n",
            "incarnation: 18190045266778125332\n",
            ", name: \"/device:XLA_CPU:0\"\n",
            "device_type: \"XLA_CPU\"\n",
            "memory_limit: 17179869184\n",
            "locality {\n",
            "}\n",
            "incarnation: 13590889466303357453\n",
            "physical_device_desc: \"device: XLA_CPU device\"\n",
            "]\n",
            "====================================================================================================\n"
          ],
          "name": "stdout"
        },
        {
          "output_type": "execute_result",
          "data": {
            "text/plain": [
              "[]"
            ]
          },
          "metadata": {
            "tags": []
          },
          "execution_count": 2
        }
      ]
    },
    {
      "cell_type": "markdown",
      "metadata": {
        "id": "B2xr_Cl0HRv7"
      },
      "source": [
        "# Imports"
      ]
    },
    {
      "cell_type": "code",
      "metadata": {
        "id": "wDSYpgeH6Kg3",
        "colab": {
          "base_uri": "https://localhost:8080/"
        },
        "outputId": "f7504475-8b86-46eb-8778-2a5eb0ff33b3"
      },
      "source": [
        "from deeppavlov.core.data.utils import download\n",
        "from deeppavlov.dataset_readers.basic_classification_reader import BasicClassificationDatasetReader\n",
        "from deeppavlov.dataset_iterators.basic_classification_iterator import BasicClassificationDatasetIterator\n",
        "\n",
        "from deeppavlov.models.preprocessors.bert_preprocessor import BertPreprocessor\n",
        "from deeppavlov.models.preprocessors.torch_transformers_preprocessor import TorchTransformersPreprocessor\n",
        "\n",
        "from deeppavlov.core.data.simple_vocab import SimpleVocabulary\n",
        "from deeppavlov.models.preprocessors.one_hotter import OneHotter\n",
        "from deeppavlov.models.classifiers.proba2labels import Proba2Labels\n",
        "from deeppavlov.models.bert.bert_classifier import BertClassifierModel\n",
        "from deeppavlov.metrics.accuracy import sets_accuracy\n",
        "from sklearn.metrics import f1_score, accuracy_score, roc_auc_score\n",
        "from tqdm import tqdm\n",
        "prob2labels = Proba2Labels(max_proba=True)\n",
        "\n",
        "import pandas as pd\n",
        "from sklearn.model_selection import train_test_split\n",
        "import os\n",
        "import random\n",
        "\n",
        "import numpy as np\n",
        "import matplotlib.pyplot as plt"
      ],
      "execution_count": 3,
      "outputs": [
        {
          "output_type": "stream",
          "text": [
            "[nltk_data] Downloading package punkt to /root/nltk_data...\n",
            "[nltk_data]   Unzipping tokenizers/punkt.zip.\n",
            "[nltk_data] Downloading package stopwords to /root/nltk_data...\n",
            "[nltk_data]   Unzipping corpora/stopwords.zip.\n",
            "[nltk_data] Downloading package perluniprops to /root/nltk_data...\n",
            "[nltk_data]   Unzipping misc/perluniprops.zip.\n",
            "[nltk_data] Downloading package nonbreaking_prefixes to\n",
            "[nltk_data]     /root/nltk_data...\n",
            "[nltk_data]   Unzipping corpora/nonbreaking_prefixes.zip.\n"
          ],
          "name": "stderr"
        },
        {
          "output_type": "stream",
          "text": [
            "WARNING:tensorflow:From /usr/local/lib/python3.7/dist-packages/deeppavlov/core/models/tf_model.py:37: The name tf.Session is deprecated. Please use tf.compat.v1.Session instead.\n",
            "\n",
            "WARNING:tensorflow:From /usr/local/lib/python3.7/dist-packages/deeppavlov/core/models/tf_model.py:222: The name tf.placeholder is deprecated. Please use tf.compat.v1.placeholder instead.\n",
            "\n",
            "WARNING:tensorflow:From /usr/local/lib/python3.7/dist-packages/deeppavlov/core/models/tf_model.py:222: The name tf.train.Optimizer is deprecated. Please use tf.compat.v1.train.Optimizer instead.\n",
            "\n"
          ],
          "name": "stdout"
        }
      ]
    },
    {
      "cell_type": "markdown",
      "metadata": {
        "id": "mGzOWFcwVori"
      },
      "source": [
        "# Get and adjust data"
      ]
    },
    {
      "cell_type": "code",
      "metadata": {
        "colab": {
          "base_uri": "https://localhost:8080/"
        },
        "id": "JAlT1PbnSEVq",
        "outputId": "a5f7c31b-5369-4a86-e2ce-79a4bdbace1e"
      },
      "source": [
        "from google.colab import drive\r\n",
        "drive.mount('/content/drive')"
      ],
      "execution_count": 4,
      "outputs": [
        {
          "output_type": "stream",
          "text": [
            "Mounted at /content/drive\n"
          ],
          "name": "stdout"
        }
      ]
    },
    {
      "cell_type": "code",
      "metadata": {
        "id": "Ke6wuMmp6Kg5"
      },
      "source": [
        "df = pd.read_csv(\"/content/drive/MyDrive/colab_files/Publication_v1/sensitive/train.csv\")\n",
        "df_val = pd.read_csv(\"/content/drive/MyDrive/colab_files/Publication_v1/sensitive/val.csv\")\n",
        "df_test = pd.read_csv(\"/content/drive/MyDrive/colab_files/Publication_v1/sensitive/test.csv\")\n",
        "\n",
        "# df = pd.read_csv(\"train.csv\")\n",
        "# df_val = pd.read_csv(\"val.csv\")\n",
        "# df_test = pd.read_csv(\"test.csv\")\n"
      ],
      "execution_count": 5,
      "outputs": []
    },
    {
      "cell_type": "code",
      "metadata": {
        "id": "ps-xE53Va40J",
        "colab": {
          "base_uri": "https://localhost:8080/"
        },
        "outputId": "a3dd90a7-67e5-48b8-b602-cab90cc0f48b"
      },
      "source": [
        "df.columns"
      ],
      "execution_count": 6,
      "outputs": [
        {
          "output_type": "execute_result",
          "data": {
            "text/plain": [
              "Index(['text', 'offline_crime', 'online_crime', 'drugs', 'gambling',\n",
              "       'pornography', 'prostitution', 'slavery', 'suicide', 'terrorism',\n",
              "       'weapons', 'body_shaming', 'health_shaming', 'politics', 'racism',\n",
              "       'religion', 'sexual_minorities', 'sexism', 'social_injustice'],\n",
              "      dtype='object')"
            ]
          },
          "metadata": {
            "tags": []
          },
          "execution_count": 6
        }
      ]
    },
    {
      "cell_type": "code",
      "metadata": {
        "id": "VAe0i36lVfpz"
      },
      "source": [
        "columns = list(df.columns)[1:] \r\n",
        "train_labels =[]\r\n",
        "for i, el in df.iterrows():\r\n",
        "  current_sample_labels = []\r\n",
        "  any_class = False\r\n",
        "  for clm in columns:\r\n",
        "    if el[clm] == 1:\r\n",
        "      any_class = True\r\n",
        "      current_sample_labels.append(clm)\r\n",
        "  if any_class == False:\r\n",
        "    current_sample_labels.append(\"none\")\r\n",
        "  current_sample_labels = ','.join(current_sample_labels)\r\n",
        "  train_labels.append(current_sample_labels)\r\n",
        "\r\n",
        "val_labels =[]\r\n",
        "for i, el in df_val.iterrows():\r\n",
        "  current_sample_labels = []\r\n",
        "  any_class = False\r\n",
        "  for clm in columns:\r\n",
        "    if el[clm] == 1:\r\n",
        "      any_class = True\r\n",
        "      current_sample_labels.append(clm)\r\n",
        "  if any_class == False:\r\n",
        "    current_sample_labels.append(\"none\")\r\n",
        "  current_sample_labels = ','.join(current_sample_labels)\r\n",
        "  val_labels.append(current_sample_labels)\r\n",
        "\r\n",
        "\r\n",
        "test_labels =[]\r\n",
        "for i, el in df_test.iterrows():\r\n",
        "  current_sample_labels = []\r\n",
        "  any_class = False\r\n",
        "  for clm in columns:\r\n",
        "    if el[clm] == 1:\r\n",
        "      any_class = True\r\n",
        "      current_sample_labels.append(clm)\r\n",
        "  if any_class == False:\r\n",
        "    current_sample_labels.append(\"none\")\r\n",
        "  current_sample_labels = ','.join(current_sample_labels)\r\n",
        "  test_labels.append(current_sample_labels)\r\n"
      ],
      "execution_count": 7,
      "outputs": []
    },
    {
      "cell_type": "code",
      "metadata": {
        "id": "q4sleqLjWv2l"
      },
      "source": [
        "df_train_adjusted = pd.DataFrame({'text':list(df['text']), 'labels':train_labels})\r\n",
        "df_val_adjusted = pd.DataFrame({'text':list(df_val['text']), 'labels':val_labels})\r\n",
        "df_test_adjusted = pd.DataFrame({'text':list(df_test['text']), 'labels':test_labels})"
      ],
      "execution_count": 8,
      "outputs": []
    },
    {
      "cell_type": "code",
      "metadata": {
        "colab": {
          "base_uri": "https://localhost:8080/",
          "height": 206
        },
        "id": "_LZn38NPUUa0",
        "outputId": "b641941a-989c-4858-c21f-6420a3281955"
      },
      "source": [
        "df_train_adjusted.head()"
      ],
      "execution_count": 9,
      "outputs": [
        {
          "output_type": "execute_result",
          "data": {
            "text/html": [
              "<div>\n",
              "<style scoped>\n",
              "    .dataframe tbody tr th:only-of-type {\n",
              "        vertical-align: middle;\n",
              "    }\n",
              "\n",
              "    .dataframe tbody tr th {\n",
              "        vertical-align: top;\n",
              "    }\n",
              "\n",
              "    .dataframe thead th {\n",
              "        text-align: right;\n",
              "    }\n",
              "</style>\n",
              "<table border=\"1\" class=\"dataframe\">\n",
              "  <thead>\n",
              "    <tr style=\"text-align: right;\">\n",
              "      <th></th>\n",
              "      <th>text</th>\n",
              "      <th>labels</th>\n",
              "    </tr>\n",
              "  </thead>\n",
              "  <tbody>\n",
              "    <tr>\n",
              "      <th>0</th>\n",
              "      <td>ахахахахахаМое лицо когда ты думаешь, что тебя...</td>\n",
              "      <td>offline_crime</td>\n",
              "    </tr>\n",
              "    <tr>\n",
              "      <th>1</th>\n",
              "      <td>Стать правителем и посадить их всех в тюрьму. ...</td>\n",
              "      <td>offline_crime</td>\n",
              "    </tr>\n",
              "    <tr>\n",
              "      <th>2</th>\n",
              "      <td>можно было сократить - убить всех долбоёбов</td>\n",
              "      <td>offline_crime</td>\n",
              "    </tr>\n",
              "    <tr>\n",
              "      <th>3</th>\n",
              "      <td>Надо сделать справедливо, и за износ наказыват...</td>\n",
              "      <td>offline_crime</td>\n",
              "    </tr>\n",
              "    <tr>\n",
              "      <th>4</th>\n",
              "      <td>Можете указывать, что несудимы, и устраиваться...</td>\n",
              "      <td>offline_crime</td>\n",
              "    </tr>\n",
              "  </tbody>\n",
              "</table>\n",
              "</div>"
            ],
            "text/plain": [
              "                                                text         labels\n",
              "0  ахахахахахаМое лицо когда ты думаешь, что тебя...  offline_crime\n",
              "1  Стать правителем и посадить их всех в тюрьму. ...  offline_crime\n",
              "2        можно было сократить - убить всех долбоёбов  offline_crime\n",
              "3  Надо сделать справедливо, и за износ наказыват...  offline_crime\n",
              "4  Можете указывать, что несудимы, и устраиваться...  offline_crime"
            ]
          },
          "metadata": {
            "tags": []
          },
          "execution_count": 9
        }
      ]
    },
    {
      "cell_type": "code",
      "metadata": {
        "id": "SVKuH35Z6Kg6"
      },
      "source": [
        "!mkdir data_multilabel"
      ],
      "execution_count": 10,
      "outputs": []
    },
    {
      "cell_type": "code",
      "metadata": {
        "id": "29A9bArA6Kg6"
      },
      "source": [
        "df_train_adjusted.to_csv(\"./data_multilabel/train.csv\", sep = ',', index = None)\n",
        "df_val_adjusted.to_csv(\"./data_multilabel/val.csv\", sep = ',', index = None)\n",
        "df_test_adjusted.to_csv(\"./data_multilabel/test.csv\", sep = ',', index = None)"
      ],
      "execution_count": 11,
      "outputs": []
    },
    {
      "cell_type": "code",
      "metadata": {
        "colab": {
          "base_uri": "https://localhost:8080/"
        },
        "id": "UAzs0jLjTx4P",
        "outputId": "41e60773-e7b7-47d5-99f4-9b0ca2175e46"
      },
      "source": [
        "len(df_train_adjusted), len(df_val_adjusted),  len(df_val_adjusted)"
      ],
      "execution_count": 12,
      "outputs": [
        {
          "output_type": "execute_result",
          "data": {
            "text/plain": [
              "(23183, 1174, 1174)"
            ]
          },
          "metadata": {
            "tags": []
          },
          "execution_count": 12
        }
      ]
    },
    {
      "cell_type": "code",
      "metadata": {
        "id": "bV13X5PQ6Kg6"
      },
      "source": [
        "reader = BasicClassificationDatasetReader()\n",
        "data = reader.read(data_path=\"./data_multilabel\", \n",
        "                   train=\"train.csv\", valid=\"val.csv\", test = \"test.csv\",\n",
        "                   x=\"text\", y=\"labels\")"
      ],
      "execution_count": 13,
      "outputs": []
    },
    {
      "cell_type": "code",
      "metadata": {
        "id": "JOErWSRs6Kg6"
      },
      "source": [
        "iterator = BasicClassificationDatasetIterator(data, shuffle=True)"
      ],
      "execution_count": 14,
      "outputs": []
    },
    {
      "cell_type": "markdown",
      "metadata": {
        "id": "DGsfNOEVHuk1"
      },
      "source": [
        "# Prepare model"
      ]
    },
    {
      "cell_type": "code",
      "metadata": {
        "id": "IB3zfrMC6Kg7"
      },
      "source": [
        "# !wget http://files.deeppavlov.ai/deeppavlov_data/bert/ru_conversational_cased_L-12_H-768_A-12.tar.gz\n",
        "!cp /content/drive/MyDrive/colab_files/ru_conversational_cased_L-12_H-768_A-12.tar.gz ru_conversational_cased_L-12_H-768_A-12.tar.gz \n",
        "!tar -xf ru_conversational_cased_L-12_H-768_A-12.tar.gz"
      ],
      "execution_count": 15,
      "outputs": []
    },
    {
      "cell_type": "code",
      "metadata": {
        "id": "uufHYmDY6Kg7"
      },
      "source": [
        "PRETR_BERT_PATH = \"./ru_conversational_cased_L-12_H-768_A-12\""
      ],
      "execution_count": 16,
      "outputs": []
    },
    {
      "cell_type": "code",
      "metadata": {
        "id": "6oJlMOzv6Kg7",
        "colab": {
          "base_uri": "https://localhost:8080/"
        },
        "outputId": "6417d0b3-dba7-40cf-bae8-351675e7994c"
      },
      "source": [
        "bert_preprocessor = BertPreprocessor(vocab_file=os.path.join(PRETR_BERT_PATH,\"vocab.txt\"),\n",
        "                                     do_lower_case=False,\n",
        "                                     max_seq_length=256)"
      ],
      "execution_count": 17,
      "outputs": [
        {
          "output_type": "stream",
          "text": [
            "WARNING:tensorflow:From /usr/local/lib/python3.7/dist-packages/bert_dp/tokenization.py:125: The name tf.gfile.GFile is deprecated. Please use tf.io.gfile.GFile instead.\n",
            "\n"
          ],
          "name": "stdout"
        }
      ]
    },
    {
      "cell_type": "code",
      "metadata": {
        "colab": {
          "base_uri": "https://localhost:8080/"
        },
        "id": "5cP6JrVu6Kg8",
        "outputId": "d78494fa-224d-4843-ed34-7ed8919d7cb5"
      },
      "source": [
        "input_features = bert_preprocessor([\"мама мыла раму\"])\n",
        "print(input_features[0].tokens)\n",
        "print(input_features[0].input_ids)\n",
        "print(input_features[0].input_mask)\n",
        "print(input_features[0].input_type_ids)"
      ],
      "execution_count": 18,
      "outputs": [
        {
          "output_type": "stream",
          "text": [
            "['[CLS]', 'мама', 'мыла', 'раму', '[SEP]']\n",
            "[101, 4775, 49053, 53954, 102, 0, 0, 0, 0, 0, 0, 0, 0, 0, 0, 0, 0, 0, 0, 0, 0, 0, 0, 0, 0, 0, 0, 0, 0, 0, 0, 0, 0, 0, 0, 0, 0, 0, 0, 0, 0, 0, 0, 0, 0, 0, 0, 0, 0, 0, 0, 0, 0, 0, 0, 0, 0, 0, 0, 0, 0, 0, 0, 0, 0, 0, 0, 0, 0, 0, 0, 0, 0, 0, 0, 0, 0, 0, 0, 0, 0, 0, 0, 0, 0, 0, 0, 0, 0, 0, 0, 0, 0, 0, 0, 0, 0, 0, 0, 0, 0, 0, 0, 0, 0, 0, 0, 0, 0, 0, 0, 0, 0, 0, 0, 0, 0, 0, 0, 0, 0, 0, 0, 0, 0, 0, 0, 0, 0, 0, 0, 0, 0, 0, 0, 0, 0, 0, 0, 0, 0, 0, 0, 0, 0, 0, 0, 0, 0, 0, 0, 0, 0, 0, 0, 0, 0, 0, 0, 0, 0, 0, 0, 0, 0, 0, 0, 0, 0, 0, 0, 0, 0, 0, 0, 0, 0, 0, 0, 0, 0, 0, 0, 0, 0, 0, 0, 0, 0, 0, 0, 0, 0, 0, 0, 0, 0, 0, 0, 0, 0, 0, 0, 0, 0, 0, 0, 0, 0, 0, 0, 0, 0, 0, 0, 0, 0, 0, 0, 0, 0, 0, 0, 0, 0, 0, 0, 0, 0, 0, 0, 0, 0, 0, 0, 0, 0, 0, 0, 0, 0, 0, 0, 0, 0, 0, 0, 0, 0, 0, 0, 0, 0, 0, 0, 0]\n",
            "[1, 1, 1, 1, 1, 0, 0, 0, 0, 0, 0, 0, 0, 0, 0, 0, 0, 0, 0, 0, 0, 0, 0, 0, 0, 0, 0, 0, 0, 0, 0, 0, 0, 0, 0, 0, 0, 0, 0, 0, 0, 0, 0, 0, 0, 0, 0, 0, 0, 0, 0, 0, 0, 0, 0, 0, 0, 0, 0, 0, 0, 0, 0, 0, 0, 0, 0, 0, 0, 0, 0, 0, 0, 0, 0, 0, 0, 0, 0, 0, 0, 0, 0, 0, 0, 0, 0, 0, 0, 0, 0, 0, 0, 0, 0, 0, 0, 0, 0, 0, 0, 0, 0, 0, 0, 0, 0, 0, 0, 0, 0, 0, 0, 0, 0, 0, 0, 0, 0, 0, 0, 0, 0, 0, 0, 0, 0, 0, 0, 0, 0, 0, 0, 0, 0, 0, 0, 0, 0, 0, 0, 0, 0, 0, 0, 0, 0, 0, 0, 0, 0, 0, 0, 0, 0, 0, 0, 0, 0, 0, 0, 0, 0, 0, 0, 0, 0, 0, 0, 0, 0, 0, 0, 0, 0, 0, 0, 0, 0, 0, 0, 0, 0, 0, 0, 0, 0, 0, 0, 0, 0, 0, 0, 0, 0, 0, 0, 0, 0, 0, 0, 0, 0, 0, 0, 0, 0, 0, 0, 0, 0, 0, 0, 0, 0, 0, 0, 0, 0, 0, 0, 0, 0, 0, 0, 0, 0, 0, 0, 0, 0, 0, 0, 0, 0, 0, 0, 0, 0, 0, 0, 0, 0, 0, 0, 0, 0, 0, 0, 0, 0, 0, 0, 0, 0, 0]\n",
            "[0, 0, 0, 0, 0, 0, 0, 0, 0, 0, 0, 0, 0, 0, 0, 0, 0, 0, 0, 0, 0, 0, 0, 0, 0, 0, 0, 0, 0, 0, 0, 0, 0, 0, 0, 0, 0, 0, 0, 0, 0, 0, 0, 0, 0, 0, 0, 0, 0, 0, 0, 0, 0, 0, 0, 0, 0, 0, 0, 0, 0, 0, 0, 0, 0, 0, 0, 0, 0, 0, 0, 0, 0, 0, 0, 0, 0, 0, 0, 0, 0, 0, 0, 0, 0, 0, 0, 0, 0, 0, 0, 0, 0, 0, 0, 0, 0, 0, 0, 0, 0, 0, 0, 0, 0, 0, 0, 0, 0, 0, 0, 0, 0, 0, 0, 0, 0, 0, 0, 0, 0, 0, 0, 0, 0, 0, 0, 0, 0, 0, 0, 0, 0, 0, 0, 0, 0, 0, 0, 0, 0, 0, 0, 0, 0, 0, 0, 0, 0, 0, 0, 0, 0, 0, 0, 0, 0, 0, 0, 0, 0, 0, 0, 0, 0, 0, 0, 0, 0, 0, 0, 0, 0, 0, 0, 0, 0, 0, 0, 0, 0, 0, 0, 0, 0, 0, 0, 0, 0, 0, 0, 0, 0, 0, 0, 0, 0, 0, 0, 0, 0, 0, 0, 0, 0, 0, 0, 0, 0, 0, 0, 0, 0, 0, 0, 0, 0, 0, 0, 0, 0, 0, 0, 0, 0, 0, 0, 0, 0, 0, 0, 0, 0, 0, 0, 0, 0, 0, 0, 0, 0, 0, 0, 0, 0, 0, 0, 0, 0, 0, 0, 0, 0, 0, 0, 0]\n"
          ],
          "name": "stdout"
        }
      ]
    },
    {
      "cell_type": "code",
      "metadata": {
        "colab": {
          "base_uri": "https://localhost:8080/"
        },
        "id": "WABACjjS6Kg8",
        "outputId": "0ca43c2e-f18a-4182-a178-e009554e0df8"
      },
      "source": [
        "vocab = SimpleVocabulary(save_path=\"./binary_classes.dict\")"
      ],
      "execution_count": 19,
      "outputs": [
        {
          "output_type": "stream",
          "text": [
            "2021-03-05 09:00:26.97 WARNING in 'deeppavlov.core.models.serializable'['serializable'] at line 49: No load path is set for SimpleVocabulary in 'infer' mode. Using save path instead\n"
          ],
          "name": "stderr"
        }
      ]
    },
    {
      "cell_type": "code",
      "metadata": {
        "id": "PAE2yWii6Kg8"
      },
      "source": [
        "vocab.fit(iterator.get_instances(data_type=\"train\")[1])"
      ],
      "execution_count": 20,
      "outputs": []
    },
    {
      "cell_type": "code",
      "metadata": {
        "id": "FsUgOaoL6Kg8"
      },
      "source": [
        "target_vaiables = list(vocab.items())\r\n",
        "target_vaiables_id2topic_dict = {el2:el1 for el1,el2 in target_vaiables}"
      ],
      "execution_count": 21,
      "outputs": []
    },
    {
      "cell_type": "code",
      "metadata": {
        "id": "Esavjcfr6Kg9"
      },
      "source": [
        "one_hotter = OneHotter(depth=vocab.len, \n",
        "                       single_vector=True\n",
        "                      )"
      ],
      "execution_count": 22,
      "outputs": []
    },
    {
      "cell_type": "code",
      "metadata": {
        "colab": {
          "base_uri": "https://localhost:8080/"
        },
        "id": "iR351hawtB7C",
        "outputId": "d49b467b-1349-43a4-e9c8-115cbe4fd881"
      },
      "source": [
        "vocab.len"
      ],
      "execution_count": 23,
      "outputs": [
        {
          "output_type": "execute_result",
          "data": {
            "text/plain": [
              "391"
            ]
          },
          "metadata": {
            "tags": []
          },
          "execution_count": 23
        }
      ]
    },
    {
      "cell_type": "code",
      "metadata": {
        "colab": {
          "base_uri": "https://localhost:8080/"
        },
        "id": "ciXUbqMN6Kg9",
        "outputId": "69e57e23-5c1a-4f9f-c62f-67eac8a986f5"
      },
      "source": [
        "bert_classifier = BertClassifierModel(\n",
        "    multilabel = True,\n",
        "    n_classes=vocab.len,\n",
        "    return_probas=True,\n",
        "    one_hot_labels=True,\n",
        "    bert_config_file=os.path.join(PRETR_BERT_PATH,\"bert_config.json\"),\n",
        "    pretrained_bert=os.path.join(PRETR_BERT_PATH,\"bert_model.ckpt\"),\n",
        "    save_path=\"/content/drive/MyDrive/colab_files/Publication_v1/sensitive/sensitive_model_v1/model\",\n",
        "    load_path=\"/content/drive/MyDrive/colab_files/Publication_v1/sensitive/sensitive_model_v1/model\",\n",
        "    keep_prob=0.5,\n",
        "    learning_rate=1e-05,\n",
        "    learning_rate_drop_patience=5,\n",
        "    learning_rate_drop_div=2.0\n",
        ")"
      ],
      "execution_count": 24,
      "outputs": [
        {
          "output_type": "stream",
          "text": [
            "WARNING:tensorflow:From /usr/local/lib/python3.7/dist-packages/deeppavlov/core/models/tf_model.py:193: The name tf.train.AdamOptimizer is deprecated. Please use tf.compat.v1.train.AdamOptimizer instead.\n",
            "\n",
            "WARNING:tensorflow:From /usr/local/lib/python3.7/dist-packages/deeppavlov/models/bert/bert_classifier.py:84: The name tf.ConfigProto is deprecated. Please use tf.compat.v1.ConfigProto instead.\n",
            "\n",
            "WARNING:tensorflow:From /usr/local/lib/python3.7/dist-packages/deeppavlov/models/bert/bert_classifier.py:161: The name tf.placeholder_with_default is deprecated. Please use tf.compat.v1.placeholder_with_default instead.\n",
            "\n",
            "WARNING:tensorflow:From /usr/local/lib/python3.7/dist-packages/bert_dp/modeling.py:178: The name tf.variable_scope is deprecated. Please use tf.compat.v1.variable_scope instead.\n",
            "\n",
            "WARNING:tensorflow:From /usr/local/lib/python3.7/dist-packages/bert_dp/modeling.py:418: The name tf.get_variable is deprecated. Please use tf.compat.v1.get_variable instead.\n",
            "\n",
            "WARNING:tensorflow:From /usr/local/lib/python3.7/dist-packages/bert_dp/modeling.py:499: The name tf.assert_less_equal is deprecated. Please use tf.compat.v1.assert_less_equal instead.\n",
            "\n",
            "WARNING:tensorflow:\n",
            "The TensorFlow contrib module will not be included in TensorFlow 2.0.\n",
            "For more information, please see:\n",
            "  * https://github.com/tensorflow/community/blob/master/rfcs/20180907-contrib-sunset.md\n",
            "  * https://github.com/tensorflow/addons\n",
            "  * https://github.com/tensorflow/io (for I/O related ops)\n",
            "If you depend on functionality not listed there, please file an issue.\n",
            "\n",
            "WARNING:tensorflow:From /usr/local/lib/python3.7/dist-packages/bert_dp/modeling.py:366: calling dropout (from tensorflow.python.ops.nn_ops) with keep_prob is deprecated and will be removed in a future version.\n",
            "Instructions for updating:\n",
            "Please use `rate` instead of `keep_prob`. Rate should be set to `rate = 1 - keep_prob`.\n",
            "WARNING:tensorflow:From /usr/local/lib/python3.7/dist-packages/bert_dp/modeling.py:680: dense (from tensorflow.python.layers.core) is deprecated and will be removed in a future version.\n",
            "Instructions for updating:\n",
            "Use keras.layers.Dense instead.\n",
            "WARNING:tensorflow:From /usr/local/lib/python3.7/dist-packages/tensorflow_core/python/layers/core.py:187: Layer.apply (from tensorflow.python.keras.engine.base_layer) is deprecated and will be removed in a future version.\n",
            "Instructions for updating:\n",
            "Please use `layer.__call__` method instead.\n",
            "WARNING:tensorflow:From /usr/local/lib/python3.7/dist-packages/bert_dp/modeling.py:283: The name tf.erf is deprecated. Please use tf.math.erf instead.\n",
            "\n",
            "WARNING:tensorflow:From /usr/local/lib/python3.7/dist-packages/tensorflow_core/python/ops/nn_impl.py:183: where (from tensorflow.python.ops.array_ops) is deprecated and will be removed in a future version.\n",
            "Instructions for updating:\n",
            "Use tf.where in 2.0, which has the same broadcast rule as np.where\n",
            "WARNING:tensorflow:From /usr/local/lib/python3.7/dist-packages/deeppavlov/core/models/tf_model.py:234: The name tf.train.AdadeltaOptimizer is deprecated. Please use tf.compat.v1.train.AdadeltaOptimizer instead.\n",
            "\n",
            "WARNING:tensorflow:From /usr/local/lib/python3.7/dist-packages/deeppavlov/core/models/tf_model.py:127: The name tf.get_collection is deprecated. Please use tf.compat.v1.get_collection instead.\n",
            "\n",
            "WARNING:tensorflow:From /usr/local/lib/python3.7/dist-packages/deeppavlov/core/models/tf_model.py:127: The name tf.GraphKeys is deprecated. Please use tf.compat.v1.GraphKeys instead.\n",
            "\n",
            "WARNING:tensorflow:From /usr/local/lib/python3.7/dist-packages/deeppavlov/models/bert/bert_classifier.py:92: The name tf.global_variables_initializer is deprecated. Please use tf.compat.v1.global_variables_initializer instead.\n",
            "\n",
            "WARNING:tensorflow:From /usr/local/lib/python3.7/dist-packages/deeppavlov/models/bert/bert_classifier.py:97: checkpoint_exists (from tensorflow.python.training.checkpoint_management) is deprecated and will be removed in a future version.\n",
            "Instructions for updating:\n",
            "Use standard file APIs to check for files with this prefix.\n"
          ],
          "name": "stdout"
        },
        {
          "output_type": "stream",
          "text": [
            "2021-03-05 09:00:54.32 INFO in 'deeppavlov.core.models.tf_model'['tf_model'] at line 51: [loading model from /content/drive/MyDrive/colab_files/Publication_v1/sensitive/sensitive_model_v1/model]\n"
          ],
          "name": "stderr"
        },
        {
          "output_type": "stream",
          "text": [
            "WARNING:tensorflow:From /usr/local/lib/python3.7/dist-packages/deeppavlov/core/models/tf_model.py:54: The name tf.train.Saver is deprecated. Please use tf.compat.v1.train.Saver instead.\n",
            "\n",
            "INFO:tensorflow:Restoring parameters from /content/drive/MyDrive/colab_files/Publication_v1/sensitive/sensitive_model_v1/model\n"
          ],
          "name": "stdout"
        }
      ]
    },
    {
      "cell_type": "markdown",
      "metadata": {
        "id": "km_FeXKgJcZh"
      },
      "source": [
        "# Set validation functions"
      ]
    },
    {
      "cell_type": "code",
      "metadata": {
        "id": "toCv4yKrJbKw"
      },
      "source": [
        "from sklearn.metrics import f1_score, precision_score, recall_score\r\n",
        "from sklearn.metrics import log_loss\r\n",
        "from sklearn.metrics import roc_auc_score\r\n",
        "import random"
      ],
      "execution_count": 25,
      "outputs": []
    },
    {
      "cell_type": "code",
      "metadata": {
        "id": "LwIgflJFJg-l"
      },
      "source": [
        "topics_list = list(df.columns)[1:] + ['none']"
      ],
      "execution_count": 26,
      "outputs": []
    },
    {
      "cell_type": "code",
      "metadata": {
        "id": "9WVz-mXWJk2x"
      },
      "source": [
        "def adjust_multilabel(y, is_pred = False):\r\n",
        "    y_adjusted = []\r\n",
        "    for y_c in y:\r\n",
        "      y_test_curr = [0]*19\r\n",
        "      if is_pred == True:\r\n",
        "        y_c = target_vaiables_id2topic_dict[np.argmax(y_c)]\r\n",
        "      for tag in y_c.split(\",\"):\r\n",
        "        topic_index = topics_list.index(tag)\r\n",
        "        y_test_curr[topic_index] = 1\r\n",
        "      y_adjusted.append(y_test_curr)\r\n",
        "    return y_adjusted\r\n",
        "\r\n",
        "def get_metrics(y_test,y_pred_tag, for_classifier = True):\r\n",
        "\r\n",
        "    y_test = adjust_multilabel(y_test)\r\n",
        "    y_test = np.array(y_test)\r\n",
        "\r\n",
        "    y_pred_tag = adjust_multilabel(y_pred_tag, is_pred = True)\r\n",
        "    y_pred_tag = np.array(y_pred_tag)\r\n",
        "\r\n",
        "    spl = random.randint(1,1000)\r\n",
        "\r\n",
        "    print(\"y_test\", y_test.shape)\r\n",
        "    print(\"y_test\\n\", y_test[spl:spl+10])\r\n",
        "    \r\n",
        "    print(\"y_pred_tag\",y_pred_tag.shape)\r\n",
        "    print(\"y_pred_tag\\n\", y_pred_tag[spl:spl+10])\r\n",
        "\r\n",
        "    for f1_type in ['macro','weighted']:\r\n",
        "        curr_type_f1 = f1_score(y_test, y_pred_tag, average = f1_type)\r\n",
        "        print(\"f1 type {} value is {}\".format(f1_type, round(curr_type_f1,2)))\r\n",
        "    \r\n",
        "    if for_classifier == True:\r\n",
        "        average = 'macro'\r\n",
        "    else:\r\n",
        "        average = None\r\n",
        "    f1 = f1_score(y_test, y_pred_tag, average = average)# average = 'macro'\r\n",
        "    return f1 \r\n"
      ],
      "execution_count": 27,
      "outputs": []
    },
    {
      "cell_type": "markdown",
      "metadata": {
        "id": "V_I_MP2JKD1x"
      },
      "source": [
        "Start training"
      ]
    },
    {
      "cell_type": "code",
      "metadata": {
        "colab": {
          "base_uri": "https://localhost:8080/",
          "height": 1000
        },
        "id": "91mYhKTFH88R",
        "outputId": "e135f366-77ad-4c0b-9be9-3fa390498d0d"
      },
      "source": [
        "best_score = 0\r\n",
        "patience = 8\r\n",
        "impatience = 0\r\n",
        "BATCH_SIZE = 16\r\n",
        "\r\n",
        "DF_IN_USE = df\r\n",
        "plot_every = int(len(DF_IN_USE)/BATCH_SIZE)\r\n",
        "\r\n",
        "# let's train for 3 epochs\r\n",
        "for ep in range(30):\r\n",
        "  \r\n",
        "    nbatches = 0\r\n",
        "    # for instance in list(tqdm._instances):\r\n",
        "    #   tqdm._decr_instances(instance)\r\n",
        "    progress_bar = tqdm(total=int(len(DF_IN_USE)/BATCH_SIZE), desc='Train')\r\n",
        "    train_loss = []\r\n",
        "    for x, y in iterator.gen_batches(batch_size=BATCH_SIZE, \r\n",
        "                                     data_type=\"train\", shuffle=True):\r\n",
        "        x_feat = bert_preprocessor(x)\r\n",
        "        y_onehot = one_hotter(vocab(y))\r\n",
        "        loss_dict = bert_classifier.train_on_batch(x_feat, y_onehot)\r\n",
        "        train_loss.append(loss_dict['loss'])\r\n",
        "        nbatches += 1\r\n",
        "  \r\n",
        "          \r\n",
        "        if nbatches%plot_every == 0:\r\n",
        "          plt.plot(train_loss)\r\n",
        "          plt.ylabel('Loss')\r\n",
        "          plt.show() \r\n",
        "\r\n",
        "        progress_bar.set_postfix(epoch = ep,loss = np.mean(train_loss[-100:]))     \r\n",
        "        progress_bar.update()\r\n",
        "\r\n",
        "    \r\n",
        "    y_valid_trues = []\r\n",
        "    y_valid_preds = []\r\n",
        "    progress_bar_valid = tqdm(total=int(len(df_val)/BATCH_SIZE), desc='valid')\r\n",
        "    for instance in list(tqdm._instances):\r\n",
        "          tqdm._decr_instances(instance)\r\n",
        "    print(\"validating .... \")\r\n",
        "    for x, y in iterator.gen_batches(batch_size=BATCH_SIZE, \r\n",
        "                                        data_type=\"valid\", shuffle=True):\r\n",
        "            y_valid_pred = bert_classifier(bert_preprocessor(x))\r\n",
        "            y_valid_preds.extend(y_valid_pred)\r\n",
        "\r\n",
        "            y_valid_trues.extend(y)\r\n",
        "            progress_bar_valid.update()\r\n",
        "    \r\n",
        "   \r\n",
        "    score = get_metrics(y_valid_trues, y_valid_preds)\r\n",
        "    print(\"macro\", score)\r\n",
        "\r\n",
        "\r\n",
        "    print(\"Epochs done: {}. Valid macro: {}\".format(ep + 1, score))\r\n",
        "    if score > best_score:\r\n",
        "        best_model = bert_classifier\r\n",
        "        bert_classifier.save()\r\n",
        "        print(\"New best score. Saving model.\")\r\n",
        "        best_score = score    \r\n",
        "        impatience = 0\r\n",
        "    else:\r\n",
        "        impatience += 1\r\n",
        "        if impatience == patience:\r\n",
        "            print(\"Out of patience. Stop training.\")\r\n",
        "            break\r\n"
      ],
      "execution_count": null,
      "outputs": [
        {
          "output_type": "stream",
          "text": [
            "\n",
            "Train:   0%|          | 0/1448 [00:00<?, ?it/s]\u001b[A\n",
            "Train:   7%|▋         | 104/1448 [01:14<16:04,  1.39it/s, epoch=0, loss=0.00231]\n",
            "Train: 100%|█████████▉| 1447/1448 [12:43<00:00,  1.90it/s, epoch=0, loss=0.00241]"
          ],
          "name": "stderr"
        },
        {
          "output_type": "display_data",
          "data": {
            "image/png": "[encoded data removed]",
            "text/plain": [
              "<Figure size 432x288 with 1 Axes>"
            ]
          },
          "metadata": {
            "tags": [],
            "needs_background": "light"
          }
        },
        {
          "output_type": "stream",
          "text": [
            "Train: 1449it [12:44,  1.74it/s, epoch=0, loss=0.00245]                          \n",
            "valid:   0%|          | 0/73 [00:00<?, ?it/s]\u001b[A"
          ],
          "name": "stderr"
        },
        {
          "output_type": "stream",
          "text": [
            "validating .... \n"
          ],
          "name": "stdout"
        },
        {
          "output_type": "stream",
          "text": [
            "\n",
            "valid:   1%|▏         | 1/73 [00:00<01:02,  1.15it/s]\u001b[A\n",
            "valid:   3%|▎         | 2/73 [00:01<00:47,  1.50it/s]\u001b[A\n",
            "valid:   4%|▍         | 3/73 [00:01<00:36,  1.92it/s]\u001b[A\n",
            "valid:   5%|▌         | 4/73 [00:01<00:28,  2.39it/s]\u001b[A\n",
            "valid:   7%|▋         | 5/73 [00:01<00:23,  2.87it/s]\u001b[A\n",
            "valid:   8%|▊         | 6/73 [00:01<00:20,  3.34it/s]\u001b[A\n",
            "valid:  10%|▉         | 7/73 [00:01<00:17,  3.77it/s]\u001b[A\n",
            "valid:  11%|█         | 8/73 [00:02<00:15,  4.13it/s]\u001b[A\n",
            "valid:  12%|█▏        | 9/73 [00:02<00:14,  4.46it/s]\u001b[A\n",
            "valid:  14%|█▎        | 10/73 [00:02<00:13,  4.71it/s]\u001b[A\n",
            "valid:  15%|█▌        | 11/73 [00:02<00:12,  4.91it/s]\u001b[A\n",
            "valid:  16%|█▋        | 12/73 [00:02<00:12,  5.05it/s]\u001b[A\n",
            "valid:  18%|█▊        | 13/73 [00:03<00:11,  5.15it/s]\u001b[A\n",
            "valid:  19%|█▉        | 14/73 [00:03<00:11,  5.22it/s]\u001b[A\n",
            "valid:  21%|██        | 15/73 [00:03<00:10,  5.28it/s]\u001b[A\n",
            "valid:  22%|██▏       | 16/73 [00:03<00:10,  5.32it/s]\u001b[A\n",
            "valid:  23%|██▎       | 17/73 [00:03<00:10,  5.33it/s]\u001b[A\n",
            "valid:  25%|██▍       | 18/73 [00:04<00:10,  5.36it/s]\u001b[A\n",
            "valid:  26%|██▌       | 19/73 [00:04<00:10,  5.37it/s]\u001b[A\n",
            "valid:  27%|██▋       | 20/73 [00:04<00:09,  5.43it/s]\u001b[A\n",
            "valid:  29%|██▉       | 21/73 [00:04<00:09,  5.48it/s]\u001b[A\n",
            "valid:  30%|███       | 22/73 [00:04<00:09,  5.49it/s]\u001b[A\n",
            "valid:  32%|███▏      | 23/73 [00:04<00:09,  5.48it/s]\u001b[A\n",
            "valid:  33%|███▎      | 24/73 [00:05<00:08,  5.49it/s]\u001b[A\n",
            "valid:  34%|███▍      | 25/73 [00:05<00:08,  5.45it/s]\u001b[A\n",
            "valid:  36%|███▌      | 26/73 [00:05<00:08,  5.49it/s]\u001b[A\n",
            "valid:  37%|███▋      | 27/73 [00:05<00:08,  5.50it/s]\u001b[A\n",
            "valid:  38%|███▊      | 28/73 [00:05<00:08,  5.49it/s]\u001b[A\n",
            "valid:  40%|███▉      | 29/73 [00:06<00:08,  5.49it/s]\u001b[A\n",
            "valid:  41%|████      | 30/73 [00:06<00:07,  5.51it/s]\u001b[A\n",
            "valid:  42%|████▏     | 31/73 [00:06<00:07,  5.48it/s]\u001b[A\n",
            "valid:  44%|████▍     | 32/73 [00:06<00:07,  5.47it/s]\u001b[A\n",
            "valid:  45%|████▌     | 33/73 [00:06<00:07,  5.45it/s]\u001b[A\n",
            "valid:  47%|████▋     | 34/73 [00:06<00:07,  5.47it/s]\u001b[A\n",
            "valid:  48%|████▊     | 35/73 [00:07<00:06,  5.46it/s]\u001b[A\n",
            "valid:  49%|████▉     | 36/73 [00:07<00:06,  5.43it/s]\u001b[A\n",
            "valid:  51%|█████     | 37/73 [00:07<00:06,  5.47it/s]\u001b[A\n",
            "valid:  52%|█████▏    | 38/73 [00:07<00:06,  5.46it/s]\u001b[A\n",
            "valid:  53%|█████▎    | 39/73 [00:07<00:06,  5.46it/s]\u001b[A\n",
            "valid:  55%|█████▍    | 40/73 [00:08<00:06,  5.46it/s]\u001b[A\n",
            "valid:  56%|█████▌    | 41/73 [00:08<00:05,  5.45it/s]\u001b[A\n",
            "valid:  58%|█████▊    | 42/73 [00:08<00:05,  5.44it/s]\u001b[A\n",
            "valid:  59%|█████▉    | 43/73 [00:08<00:05,  5.44it/s]\u001b[A\n",
            "valid:  60%|██████    | 44/73 [00:08<00:05,  5.37it/s]\u001b[A\n",
            "valid:  62%|██████▏   | 45/73 [00:08<00:05,  5.38it/s]\u001b[A\n",
            "valid:  63%|██████▎   | 46/73 [00:09<00:05,  5.37it/s]\u001b[A\n",
            "valid:  64%|██████▍   | 47/73 [00:09<00:04,  5.40it/s]\u001b[A\n",
            "valid:  66%|██████▌   | 48/73 [00:09<00:04,  5.41it/s]\u001b[A\n",
            "valid:  67%|██████▋   | 49/73 [00:09<00:04,  5.41it/s]\u001b[A\n",
            "valid:  68%|██████▊   | 50/73 [00:09<00:04,  5.44it/s]\u001b[A\n",
            "valid:  70%|██████▉   | 51/73 [00:10<00:04,  5.46it/s]\u001b[A\n",
            "valid:  71%|███████   | 52/73 [00:10<00:03,  5.40it/s]\u001b[A\n",
            "valid:  73%|███████▎  | 53/73 [00:10<00:03,  5.42it/s]\u001b[A\n",
            "valid:  74%|███████▍  | 54/73 [00:10<00:03,  5.47it/s]\u001b[A\n",
            "valid:  75%|███████▌  | 55/73 [00:10<00:03,  5.45it/s]\u001b[A\n",
            "valid:  77%|███████▋  | 56/73 [00:10<00:03,  5.46it/s]\u001b[A\n",
            "valid:  78%|███████▊  | 57/73 [00:11<00:02,  5.46it/s]\u001b[A\n",
            "valid:  79%|███████▉  | 58/73 [00:11<00:02,  5.47it/s]\u001b[A\n",
            "valid:  81%|████████  | 59/73 [00:11<00:02,  5.48it/s]\u001b[A\n",
            "valid:  82%|████████▏ | 60/73 [00:11<00:02,  5.46it/s]\u001b[A\n",
            "valid:  84%|████████▎ | 61/73 [00:11<00:02,  5.44it/s]\u001b[A\n",
            "valid:  85%|████████▍ | 62/73 [00:12<00:02,  5.45it/s]\u001b[A\n",
            "valid:  86%|████████▋ | 63/73 [00:12<00:01,  5.45it/s]\u001b[A\n",
            "valid:  88%|████████▊ | 64/73 [00:12<00:01,  5.44it/s]\u001b[A\n",
            "valid:  89%|████████▉ | 65/73 [00:12<00:01,  5.44it/s]\u001b[A\n",
            "valid:  90%|█████████ | 66/73 [00:12<00:01,  5.35it/s]\u001b[A\n",
            "valid:  92%|█████████▏| 67/73 [00:13<00:01,  5.37it/s]\u001b[A\n",
            "valid:  93%|█████████▎| 68/73 [00:13<00:00,  5.40it/s]\u001b[A\n",
            "valid:  95%|█████████▍| 69/73 [00:13<00:00,  5.42it/s]\u001b[A\n",
            "valid:  96%|█████████▌| 70/73 [00:13<00:00,  5.44it/s]\u001b[A\n",
            "valid:  97%|█████████▋| 71/73 [00:13<00:00,  5.42it/s]\u001b[A\n",
            "valid:  99%|█████████▊| 72/73 [00:13<00:00,  5.43it/s]\u001b[A\n",
            "valid: 100%|██████████| 73/73 [00:14<00:00,  5.46it/s]\u001b[A2021-03-05 04:57:54.224 INFO in 'deeppavlov.core.models.tf_model'['tf_model'] at line 75: [saving model to /content/drive/MyDrive/colab_files/Publication_v1/sensitive/sensitive_model_v1/model]\n"
          ],
          "name": "stderr"
        },
        {
          "output_type": "stream",
          "text": [
            "y_test (1174, 19)\n",
            "y_test\n",
            " [[0 0 0 0 1 0 0 0 0 0 0 0 0 0 0 0 0 0 0]\n",
            " [0 0 0 0 0 0 0 0 0 0 1 0 0 0 0 0 0 0 0]\n",
            " [0 0 0 0 0 0 0 0 0 0 0 0 0 0 0 0 0 1 0]\n",
            " [0 0 0 0 0 0 0 0 0 0 0 0 0 0 0 0 0 0 1]\n",
            " [0 0 0 0 0 1 0 0 0 0 0 0 0 0 0 0 1 1 0]\n",
            " [0 0 0 0 0 0 0 0 0 0 0 0 1 1 0 0 0 0 0]\n",
            " [0 0 0 0 0 0 0 0 0 0 0 0 0 0 0 0 0 0 1]\n",
            " [0 0 0 0 0 0 0 0 0 0 0 0 0 0 0 0 0 0 1]\n",
            " [0 0 0 0 0 0 0 0 0 1 0 0 0 0 0 0 0 0 0]\n",
            " [0 0 0 0 0 0 0 0 0 1 0 0 0 0 0 0 0 0 0]]\n",
            "y_pred_tag (1174, 19)\n",
            "y_pred_tag\n",
            " [[0 0 0 0 1 0 0 0 0 0 0 0 0 0 0 0 0 0 0]\n",
            " [0 0 0 0 0 0 0 0 0 0 1 0 0 0 0 0 0 0 0]\n",
            " [0 0 0 0 0 0 0 0 0 0 0 0 0 0 0 0 0 1 0]\n",
            " [0 0 0 0 0 0 0 0 0 0 0 0 0 0 0 0 1 0 0]\n",
            " [0 0 0 0 0 0 0 0 0 0 0 0 0 0 0 0 1 0 0]\n",
            " [0 0 0 0 0 0 0 0 0 0 0 0 1 1 0 0 0 0 0]\n",
            " [0 0 0 0 0 0 0 0 0 0 1 0 0 0 0 0 0 0 0]\n",
            " [1 0 0 0 0 0 0 0 0 0 0 0 0 0 0 0 0 0 0]\n",
            " [0 0 0 0 0 0 0 0 0 1 0 0 0 0 0 0 0 0 0]\n",
            " [0 0 0 0 0 0 0 0 0 1 0 0 0 0 0 0 0 0 0]]\n",
            "f1 type macro value is 0.59\n",
            "f1 type weighted value is 0.62\n",
            "macro 0.5864871852867889\n",
            "Epochs done: 1. Valid macro: 0.5864871852867889\n"
          ],
          "name": "stdout"
        },
        {
          "output_type": "stream",
          "text": [
            "\rTrain:   0%|          | 0/1448 [00:00<?, ?it/s]"
          ],
          "name": "stderr"
        },
        {
          "output_type": "stream",
          "text": [
            "New best score. Saving model.\n"
          ],
          "name": "stdout"
        },
        {
          "output_type": "stream",
          "text": [
            "Train: 100%|█████████▉| 1447/1448 [12:42<00:00,  1.88it/s, epoch=1, loss=0.00229]"
          ],
          "name": "stderr"
        },
        {
          "output_type": "display_data",
          "data": {
            "image/png": "[encoded data removed]",
            "text/plain": [
              "<Figure size 432x288 with 1 Axes>"
            ]
          },
          "metadata": {
            "tags": [],
            "needs_background": "light"
          }
        },
        {
          "output_type": "stream",
          "text": [
            "Train: 1449it [12:43,  1.79it/s, epoch=1, loss=0.00225]                          \n",
            "valid: 74it [13:03, 10.58s/it]                        \n",
            "\n",
            "Train: 1449it [25:47,  1.07s/it, epoch=0, loss=0.00245]\n",
            "valid:   1%|▏         | 1/73 [00:00<00:13,  5.21it/s]"
          ],
          "name": "stderr"
        },
        {
          "output_type": "stream",
          "text": [
            "validating .... \n"
          ],
          "name": "stdout"
        },
        {
          "output_type": "stream",
          "text": [
            "valid: 100%|██████████| 73/73 [00:12<00:00,  5.70it/s]2021-03-05 05:10:55.995 INFO in 'deeppavlov.core.models.tf_model'['tf_model'] at line 75: [saving model to /content/drive/MyDrive/colab_files/Publication_v1/sensitive/sensitive_model_v1/model]\n"
          ],
          "name": "stderr"
        },
        {
          "output_type": "stream",
          "text": [
            "y_test (1174, 19)\n",
            "y_test\n",
            " [[0 0 0 0 0 0 0 0 0 0 0 0 0 0 0 0 1 1 0]\n",
            " [0 0 0 0 0 0 0 0 0 0 0 0 0 0 0 0 0 0 1]\n",
            " [0 0 0 0 0 1 0 0 0 0 0 0 0 0 0 0 0 0 0]\n",
            " [0 0 0 0 0 0 0 0 0 0 0 0 1 0 0 0 0 0 0]\n",
            " [0 0 0 0 0 0 0 0 0 0 0 0 0 1 0 0 0 1 0]\n",
            " [1 0 0 0 0 0 0 0 0 0 0 0 1 0 0 0 0 0 0]\n",
            " [0 0 1 0 0 0 0 0 0 0 0 0 0 0 0 0 0 0 0]\n",
            " [0 0 0 0 0 0 0 0 0 0 0 1 0 0 0 0 0 0 0]\n",
            " [0 0 0 0 0 0 0 0 0 1 1 0 0 0 0 0 0 0 0]\n",
            " [0 0 0 0 0 0 0 0 1 0 0 0 1 0 0 0 0 0 0]]\n",
            "y_pred_tag (1174, 19)\n",
            "y_pred_tag\n",
            " [[0 0 0 0 0 0 0 0 0 0 0 0 0 0 0 0 1 0 0]\n",
            " [0 0 0 0 0 0 0 0 0 0 0 0 0 0 0 0 0 0 1]\n",
            " [0 0 0 0 0 1 0 0 0 0 0 0 0 0 0 0 0 0 0]\n",
            " [1 0 0 0 0 0 0 0 0 0 0 0 0 0 0 0 0 0 0]\n",
            " [0 0 0 0 0 0 0 0 0 0 0 0 1 1 0 0 0 1 0]\n",
            " [0 0 0 0 0 0 0 0 0 0 0 0 0 1 0 0 0 0 0]\n",
            " [0 0 1 0 0 0 0 0 0 0 0 0 0 0 0 0 0 0 0]\n",
            " [0 0 0 0 0 0 0 0 0 0 0 1 0 0 0 0 0 0 0]\n",
            " [0 0 0 0 0 0 0 0 0 1 0 0 0 0 0 0 0 0 0]\n",
            " [0 0 0 0 0 0 0 0 0 0 0 0 1 0 0 0 0 0 0]]\n",
            "f1 type macro value is 0.62\n",
            "f1 type weighted value is 0.65\n",
            "macro 0.6191292095673152\n",
            "Epochs done: 2. Valid macro: 0.6191292095673152\n"
          ],
          "name": "stdout"
        },
        {
          "output_type": "stream",
          "text": [
            "Train: 1449it [13:01,  1.85it/s, epoch=1, loss=0.00225]"
          ],
          "name": "stderr"
        },
        {
          "output_type": "stream",
          "text": [
            "New best score. Saving model.\n"
          ],
          "name": "stdout"
        },
        {
          "output_type": "stream",
          "text": [
            "\n",
            "Train: 100%|█████████▉| 1447/1448 [12:43<00:00,  1.90it/s, epoch=2, loss=0.00189]"
          ],
          "name": "stderr"
        },
        {
          "output_type": "display_data",
          "data": {
            "image/png": "[encoded data removed]",
            "text/plain": [
              "<Figure size 432x288 with 1 Axes>"
            ]
          },
          "metadata": {
            "tags": [],
            "needs_background": "light"
          }
        },
        {
          "output_type": "stream",
          "text": [
            "Train: 1449it [12:44,  1.80it/s, epoch=2, loss=0.0019]                          \n",
            "valid:   0%|          | 0/73 [00:00<?, ?it/s]\u001b[A\n",
            "valid: 74it [13:02, 10.57s/it]                        \n",
            "valid:   1%|▏         | 1/73 [00:00<00:14,  5.02it/s]"
          ],
          "name": "stderr"
        },
        {
          "output_type": "stream",
          "text": [
            "validating .... \n"
          ],
          "name": "stdout"
        },
        {
          "output_type": "stream",
          "text": [
            "Train: 1449it [12:57,  1.86it/s, epoch=2, loss=0.0019]\n"
          ],
          "name": "stderr"
        },
        {
          "output_type": "stream",
          "text": [
            "y_test (1174, 19)\n",
            "y_test\n",
            " [[0 0 0 0 0 0 0 0 0 0 0 0 0 0 1 0 0 0 0]\n",
            " [0 0 0 0 0 1 1 0 0 0 0 0 0 0 0 0 1 0 0]\n",
            " [0 0 0 0 1 0 0 0 0 0 0 0 0 0 0 1 0 0 0]\n",
            " [0 0 0 0 0 0 0 0 0 0 0 0 1 1 0 0 0 1 0]\n",
            " [0 0 0 0 0 0 0 0 0 0 0 0 0 0 0 0 0 0 1]\n",
            " [0 0 0 0 0 0 0 0 0 0 0 0 0 0 0 1 0 0 0]\n",
            " [0 0 0 0 0 0 0 0 0 0 0 0 0 0 0 0 0 0 1]\n",
            " [0 0 1 0 0 0 0 0 0 0 0 0 0 0 0 0 0 0 0]\n",
            " [0 0 0 0 0 0 0 0 0 0 0 0 0 0 0 0 0 1 0]\n",
            " [0 0 0 0 1 0 0 0 0 0 0 0 0 0 0 0 1 0 0]]\n",
            "y_pred_tag (1174, 19)\n",
            "y_pred_tag\n",
            " [[0 0 0 0 0 0 0 0 0 0 0 0 0 0 1 0 0 0 0]\n",
            " [0 0 0 0 0 1 0 0 0 0 0 0 0 0 0 0 0 0 0]\n",
            " [0 0 0 0 1 0 0 0 0 0 0 0 0 0 0 1 0 0 0]\n",
            " [0 0 0 0 0 0 0 0 0 0 0 0 1 1 0 0 0 1 0]\n",
            " [0 0 0 0 0 0 0 0 0 0 0 1 0 0 0 0 0 0 0]\n",
            " [0 0 0 0 1 0 0 0 0 0 0 0 0 0 0 1 0 0 0]\n",
            " [0 0 0 0 0 0 0 0 0 0 0 0 0 0 0 0 0 0 1]\n",
            " [0 0 1 0 0 0 0 0 0 0 0 0 0 0 0 0 0 0 0]\n",
            " [0 0 0 0 0 0 0 0 0 0 0 0 0 0 0 0 0 1 0]\n",
            " [0 0 0 0 0 0 0 0 0 0 0 0 0 0 0 0 1 0 0]]\n",
            "f1 type macro value is 0.6\n",
            "f1 type weighted value is 0.63\n",
            "macro 0.6030110879356306\n",
            "Epochs done: 3. Valid macro: 0.6030110879356306\n"
          ],
          "name": "stdout"
        },
        {
          "output_type": "stream",
          "text": [
            "Train: 100%|█████████▉| 1447/1448 [12:44<00:00,  1.89it/s, epoch=3, loss=0.00189]"
          ],
          "name": "stderr"
        },
        {
          "output_type": "display_data",
          "data": {
            "image/png": "[encoded data removed]",
            "text/plain": [
              "<Figure size 432x288 with 1 Axes>"
            ]
          },
          "metadata": {
            "tags": [],
            "needs_background": "light"
          }
        },
        {
          "output_type": "stream",
          "text": [
            "Train: 1449it [12:45,  1.78it/s, epoch=3, loss=0.00187]                          \n",
            "valid:   0%|          | 0/73 [00:00<?, ?it/s]\u001b[A\n",
            "valid: 74it [12:58, 10.52s/it]                        \n",
            "valid:   1%|▏         | 1/73 [00:00<00:14,  4.91it/s]"
          ],
          "name": "stderr"
        },
        {
          "output_type": "stream",
          "text": [
            "validating .... \n"
          ],
          "name": "stdout"
        },
        {
          "output_type": "stream",
          "text": [
            "Train:   0%|          | 0/1448 [00:00<?, ?it/s]"
          ],
          "name": "stderr"
        },
        {
          "output_type": "stream",
          "text": [
            "y_test (1174, 19)\n",
            "y_test\n",
            " [[0 0 0 0 0 0 0 0 0 0 0 0 1 1 0 0 0 1 0]\n",
            " [1 0 1 0 0 0 0 0 0 0 0 0 0 0 0 0 0 0 0]\n",
            " [0 0 0 0 0 0 0 0 0 0 0 0 1 1 0 0 0 1 0]\n",
            " [0 0 0 0 0 0 0 0 0 0 0 0 0 0 0 0 0 0 1]\n",
            " [0 0 1 0 0 0 0 0 0 0 1 0 0 0 0 0 0 0 0]\n",
            " [0 0 0 0 0 0 0 0 0 0 0 1 0 0 0 0 0 0 0]\n",
            " [0 0 0 0 0 0 0 0 0 0 0 0 1 0 0 0 0 1 0]\n",
            " [0 0 0 0 0 0 0 0 0 0 0 0 1 0 0 0 0 1 0]\n",
            " [0 0 0 0 0 0 0 0 0 0 0 0 0 0 0 0 0 0 1]\n",
            " [0 0 0 0 0 0 0 0 0 0 0 0 1 1 0 0 0 0 0]]\n",
            "y_pred_tag (1174, 19)\n",
            "y_pred_tag\n",
            " [[0 0 0 0 0 0 0 0 0 0 0 0 0 1 0 0 0 0 0]\n",
            " [0 0 1 0 0 0 0 0 0 0 0 0 0 0 0 0 0 0 0]\n",
            " [0 0 0 0 0 0 0 0 0 0 0 0 1 1 0 0 0 1 0]\n",
            " [0 0 0 0 0 0 0 0 0 0 0 0 0 0 0 0 0 0 1]\n",
            " [0 0 1 0 0 0 0 0 0 0 0 0 0 0 0 0 0 0 0]\n",
            " [0 0 0 0 0 0 0 0 0 0 0 0 0 0 0 0 0 1 0]\n",
            " [0 0 0 0 0 0 0 0 0 0 0 0 0 0 0 0 0 1 0]\n",
            " [0 0 0 0 0 0 1 0 0 0 0 0 0 0 0 0 0 0 0]\n",
            " [0 0 0 0 0 0 0 0 0 0 0 0 0 0 0 0 0 0 1]\n",
            " [0 0 0 0 0 0 0 0 0 0 0 0 1 1 0 0 0 1 0]]\n",
            "f1 type macro value is 0.61\n",
            "f1 type weighted value is 0.64\n",
            "macro 0.6109098843591102\n",
            "Epochs done: 4. Valid macro: 0.6109098843591102\n"
          ],
          "name": "stdout"
        },
        {
          "output_type": "stream",
          "text": [
            "Train: 100%|█████████▉| 1447/1448 [12:45<00:00,  1.89it/s, epoch=4, loss=0.00166]"
          ],
          "name": "stderr"
        },
        {
          "output_type": "display_data",
          "data": {
            "image/png": "[encoded data removed]",
            "text/plain": [
              "<Figure size 432x288 with 1 Axes>"
            ]
          },
          "metadata": {
            "tags": [],
            "needs_background": "light"
          }
        },
        {
          "output_type": "stream",
          "text": [
            "Train: 1449it [12:46,  1.77it/s, epoch=4, loss=0.00168]                          \n",
            "valid:   0%|          | 0/73 [00:00<?, ?it/s]\u001b[A\n",
            "valid: 74it [12:59, 10.53s/it]                        \n",
            "Train: 1449it [25:44,  1.07s/it, epoch=3, loss=0.00187]\n",
            "valid:   1%|▏         | 1/73 [00:00<00:14,  5.05it/s]"
          ],
          "name": "stderr"
        },
        {
          "output_type": "stream",
          "text": [
            "validating .... \n"
          ],
          "name": "stdout"
        },
        {
          "output_type": "stream",
          "text": [
            "Train: 1449it [12:59,  1.86it/s, epoch=4, loss=0.00168]\n"
          ],
          "name": "stderr"
        },
        {
          "output_type": "stream",
          "text": [
            "y_test (1174, 19)\n",
            "y_test\n",
            " [[0 0 0 0 0 0 0 0 0 0 0 0 0 0 0 0 1 0 0]\n",
            " [0 0 0 0 1 0 0 0 0 0 0 0 0 0 0 0 0 0 0]\n",
            " [0 0 0 0 0 0 0 0 0 0 0 0 1 1 0 0 0 0 0]\n",
            " [0 0 0 0 0 0 1 0 0 0 0 0 0 1 0 0 0 0 0]\n",
            " [0 0 0 0 0 0 0 0 0 1 0 0 0 0 0 0 0 0 0]\n",
            " [0 0 1 0 0 0 0 0 0 0 0 0 0 0 0 0 0 0 0]\n",
            " [0 0 0 0 0 0 0 0 0 0 0 0 0 0 0 0 0 0 1]\n",
            " [0 0 0 0 0 0 0 0 0 0 0 1 0 0 0 0 0 0 0]\n",
            " [0 0 0 0 0 0 0 0 0 0 1 0 0 0 0 0 0 0 0]\n",
            " [0 0 0 0 0 0 0 0 0 0 0 1 0 0 0 0 0 0 0]]\n",
            "y_pred_tag (1174, 19)\n",
            "y_pred_tag\n",
            " [[0 0 0 0 1 0 0 0 0 0 0 0 0 0 0 0 0 0 0]\n",
            " [0 0 0 0 1 0 0 0 0 0 0 0 0 0 0 0 0 0 0]\n",
            " [0 0 0 0 0 0 0 0 0 0 0 0 1 1 0 0 0 1 0]\n",
            " [0 0 0 0 0 0 0 0 0 0 0 0 0 1 0 0 0 0 0]\n",
            " [0 0 0 0 0 0 0 0 0 1 0 0 0 0 0 0 0 0 0]\n",
            " [0 0 0 0 0 0 0 0 0 0 0 0 0 0 0 0 0 0 1]\n",
            " [0 0 0 1 0 0 0 0 0 0 0 0 0 0 0 0 0 0 0]\n",
            " [0 0 1 0 0 0 0 0 0 0 0 0 0 0 0 0 0 0 0]\n",
            " [0 0 0 0 0 0 0 0 0 0 1 0 0 0 0 0 0 0 0]\n",
            " [0 0 0 0 0 0 0 0 0 0 0 1 0 0 0 0 0 0 0]]\n",
            "f1 type macro value is 0.61\n",
            "f1 type weighted value is 0.65\n",
            "macro 0.6125156402795355\n",
            "Epochs done: 5. Valid macro: 0.6125156402795355\n"
          ],
          "name": "stdout"
        },
        {
          "output_type": "stream",
          "text": [
            "Train: 100%|█████████▉| 1447/1448 [12:44<00:00,  1.89it/s, epoch=5, loss=0.00145]"
          ],
          "name": "stderr"
        },
        {
          "output_type": "display_data",
          "data": {
            "image/png": "[encoded data removed]",
            "text/plain": [
              "<Figure size 432x288 with 1 Axes>"
            ]
          },
          "metadata": {
            "tags": [],
            "needs_background": "light"
          }
        },
        {
          "output_type": "stream",
          "text": [
            "Train: 1449it [12:45,  1.79it/s, epoch=5, loss=0.00144]                          \n",
            "valid:   0%|          | 0/73 [00:00<?, ?it/s]\u001b[A\n",
            "valid: 74it [12:58, 10.52s/it]                        \n",
            "valid:   1%|▏         | 1/73 [00:00<00:13,  5.19it/s]"
          ],
          "name": "stderr"
        },
        {
          "output_type": "stream",
          "text": [
            "validating .... \n"
          ],
          "name": "stdout"
        },
        {
          "output_type": "stream",
          "text": [
            "valid: 100%|██████████| 73/73 [00:12<00:00,  5.70it/s]2021-03-05 06:02:55.165 INFO in 'deeppavlov.core.models.tf_model'['tf_model'] at line 75: [saving model to /content/drive/MyDrive/colab_files/Publication_v1/sensitive/sensitive_model_v1/model]\n"
          ],
          "name": "stderr"
        },
        {
          "output_type": "stream",
          "text": [
            "y_test (1174, 19)\n",
            "y_test\n",
            " [[0 0 0 0 0 0 0 0 0 0 0 0 0 0 0 0 0 0 1]\n",
            " [0 0 0 0 1 0 0 0 0 0 0 0 0 0 0 0 0 0 0]\n",
            " [0 0 1 0 0 0 0 0 0 0 0 0 0 0 0 0 0 0 0]\n",
            " [0 0 0 0 0 0 0 0 0 0 0 0 0 0 0 0 0 0 1]\n",
            " [0 0 0 0 0 0 0 0 0 1 0 0 0 0 0 0 0 0 0]\n",
            " [0 0 0 0 0 0 0 0 0 0 0 0 0 0 0 0 1 1 0]\n",
            " [0 1 0 0 0 0 0 0 0 0 0 0 0 0 0 0 0 0 0]\n",
            " [0 0 0 0 0 0 0 0 0 1 0 0 0 0 0 0 0 0 0]\n",
            " [0 0 0 0 0 0 0 0 0 0 0 0 0 0 0 1 0 0 0]\n",
            " [0 0 0 0 0 0 0 0 0 1 0 0 0 0 0 0 0 0 0]]\n",
            "y_pred_tag (1174, 19)\n",
            "y_pred_tag\n",
            " [[0 0 0 0 0 0 0 0 0 0 0 0 0 0 0 0 0 0 1]\n",
            " [0 0 0 0 1 0 0 0 0 0 0 0 0 0 0 0 0 0 0]\n",
            " [0 0 0 0 0 0 0 0 0 0 0 0 0 0 0 0 0 0 1]\n",
            " [0 0 0 0 0 0 1 0 0 0 0 0 0 0 0 0 0 0 0]\n",
            " [0 0 0 0 0 0 0 0 0 1 0 0 0 0 0 0 0 0 0]\n",
            " [0 0 0 0 0 0 0 0 0 0 0 0 0 0 0 0 1 0 0]\n",
            " [0 0 0 0 0 0 0 0 0 0 0 0 0 0 0 0 0 0 1]\n",
            " [0 0 0 0 0 0 0 0 0 1 0 0 0 0 0 0 0 0 0]\n",
            " [0 0 0 0 1 0 0 0 0 0 0 0 0 0 0 1 0 0 0]\n",
            " [0 0 0 0 0 0 0 0 0 1 0 0 0 0 0 0 0 0 0]]\n",
            "f1 type macro value is 0.64\n",
            "f1 type weighted value is 0.67\n",
            "macro 0.6379172059396927\n",
            "Epochs done: 6. Valid macro: 0.6379172059396927\n"
          ],
          "name": "stdout"
        },
        {
          "output_type": "stream",
          "text": [
            "\rTrain:   0%|          | 0/1448 [00:00<?, ?it/s]"
          ],
          "name": "stderr"
        },
        {
          "output_type": "stream",
          "text": [
            "New best score. Saving model.\n"
          ],
          "name": "stdout"
        },
        {
          "output_type": "stream",
          "text": [
            "Train: 100%|█████████▉| 1447/1448 [12:43<00:00,  1.88it/s, epoch=6, loss=0.00151]"
          ],
          "name": "stderr"
        },
        {
          "output_type": "display_data",
          "data": {
            "image/png": "[encoded data removed]",
            "text/plain": [
              "<Figure size 432x288 with 1 Axes>"
            ]
          },
          "metadata": {
            "tags": [],
            "needs_background": "light"
          }
        },
        {
          "output_type": "stream",
          "text": [
            "Train: 1449it [12:45,  1.78it/s, epoch=6, loss=0.00151]                          \n",
            "valid:   0%|          | 0/73 [00:00<?, ?it/s]\u001b[A\n",
            "valid: 74it [13:02, 10.58s/it]                        \n",
            "Train: 1449it [25:48,  1.07s/it, epoch=5, loss=0.00144]\n",
            "valid:   1%|▏         | 1/73 [00:00<00:15,  4.65it/s]"
          ],
          "name": "stderr"
        },
        {
          "output_type": "stream",
          "text": [
            "validating .... \n"
          ],
          "name": "stdout"
        },
        {
          "output_type": "stream",
          "text": [
            "Train:   0%|          | 0/1448 [00:00<?, ?it/s]"
          ],
          "name": "stderr"
        },
        {
          "output_type": "stream",
          "text": [
            "y_test (1174, 19)\n",
            "y_test\n",
            " [[0 0 1 0 0 0 0 0 0 0 0 1 0 0 0 0 0 0 0]\n",
            " [0 0 0 0 1 0 0 0 0 0 1 0 0 0 0 0 0 0 0]\n",
            " [0 0 0 0 1 0 0 0 0 0 0 0 0 0 0 0 1 0 0]\n",
            " [0 0 0 0 0 0 0 0 0 0 0 0 0 0 0 0 0 0 1]\n",
            " [0 0 0 0 0 0 0 0 0 0 0 0 0 0 0 0 0 1 0]\n",
            " [0 0 1 0 0 0 0 0 0 0 0 0 0 0 0 0 0 0 0]\n",
            " [0 0 0 0 0 0 0 0 0 1 0 0 0 0 0 0 0 0 0]\n",
            " [0 0 1 0 0 0 0 0 0 0 0 1 0 0 0 0 0 0 0]\n",
            " [0 0 0 0 0 0 0 0 0 0 0 0 0 0 0 0 1 0 0]\n",
            " [0 0 0 0 1 0 0 0 0 0 1 0 0 0 0 0 0 0 0]]\n",
            "y_pred_tag (1174, 19)\n",
            "y_pred_tag\n",
            " [[0 0 1 0 0 0 0 0 0 0 0 0 0 0 0 0 0 0 0]\n",
            " [0 0 0 0 0 0 0 0 0 0 1 0 0 0 0 0 0 0 0]\n",
            " [0 0 0 0 1 0 0 0 0 0 0 0 0 0 0 0 0 0 0]\n",
            " [0 1 0 0 0 0 0 0 0 0 0 0 0 0 0 0 0 0 0]\n",
            " [0 0 0 0 0 0 0 0 0 0 0 0 0 0 0 0 0 1 0]\n",
            " [0 0 1 0 0 0 0 0 0 0 0 0 0 0 0 0 0 0 0]\n",
            " [0 0 0 0 0 0 0 0 0 1 0 0 0 0 0 0 0 0 0]\n",
            " [0 0 1 0 0 0 0 0 0 0 0 0 0 0 0 0 0 0 0]\n",
            " [0 0 0 0 0 0 0 0 0 0 0 0 0 0 0 0 1 0 0]\n",
            " [0 0 0 0 0 0 0 0 0 0 1 0 0 0 0 0 0 0 0]]\n",
            "f1 type macro value is 0.64\n",
            "f1 type weighted value is 0.66\n",
            "macro 0.6360381587982261\n",
            "Epochs done: 7. Valid macro: 0.6360381587982261\n"
          ],
          "name": "stdout"
        },
        {
          "output_type": "stream",
          "text": [
            "Train: 100%|█████████▉| 1447/1448 [12:45<00:00,  1.90it/s, epoch=7, loss=0.00143]"
          ],
          "name": "stderr"
        },
        {
          "output_type": "display_data",
          "data": {
            "image/png": "[encoded data removed]",
            "text/plain": [
              "<Figure size 432x288 with 1 Axes>"
            ]
          },
          "metadata": {
            "tags": [],
            "needs_background": "light"
          }
        },
        {
          "output_type": "stream",
          "text": [
            "Train: 1449it [12:46,  1.80it/s, epoch=7, loss=0.00148]                          \n",
            "valid:   0%|          | 0/73 [00:00<?, ?it/s]\u001b[A\n",
            "valid: 74it [12:59, 10.53s/it]                        \n",
            "Train: 1449it [25:44,  1.07s/it, epoch=6, loss=0.00151]\n",
            "valid:   1%|▏         | 1/73 [00:00<00:13,  5.14it/s]"
          ],
          "name": "stderr"
        },
        {
          "output_type": "stream",
          "text": [
            "validating .... \n"
          ],
          "name": "stdout"
        },
        {
          "output_type": "stream",
          "text": [
            "Train:   0%|          | 0/1448 [00:00<?, ?it/s]"
          ],
          "name": "stderr"
        },
        {
          "output_type": "stream",
          "text": [
            "y_test (1174, 19)\n",
            "y_test\n",
            " [[0 0 0 0 0 1 0 0 0 0 0 0 0 0 0 0 1 0 0]\n",
            " [0 0 0 0 0 0 0 0 0 0 0 0 0 0 0 0 0 1 0]\n",
            " [0 0 0 0 1 0 0 0 0 0 0 0 0 0 0 0 0 0 0]\n",
            " [0 0 0 0 1 0 0 0 0 0 0 0 0 0 0 0 1 0 0]\n",
            " [0 0 0 0 1 0 0 0 0 0 0 0 0 0 0 0 1 0 0]\n",
            " [0 0 0 0 1 0 0 0 0 0 1 0 0 0 0 0 0 0 0]\n",
            " [0 0 0 0 0 0 0 0 0 0 0 0 0 0 0 0 1 0 0]\n",
            " [0 0 0 0 0 0 0 0 0 0 0 0 0 0 0 0 0 0 1]\n",
            " [0 0 0 0 0 0 0 0 0 0 0 0 1 1 0 0 0 1 0]\n",
            " [0 0 0 0 0 0 0 0 0 0 0 0 1 0 0 0 0 0 0]]\n",
            "y_pred_tag (1174, 19)\n",
            "y_pred_tag\n",
            " [[0 0 0 0 0 1 0 0 0 0 0 0 0 0 0 0 0 0 0]\n",
            " [0 0 0 0 0 0 0 0 0 0 0 0 0 0 0 0 0 1 0]\n",
            " [0 0 0 0 0 0 0 0 0 0 0 0 0 0 0 0 0 0 1]\n",
            " [0 0 0 0 1 0 0 0 0 0 0 0 0 0 0 0 0 0 0]\n",
            " [0 0 0 0 1 0 0 0 0 0 0 0 0 0 0 0 0 0 0]\n",
            " [0 0 0 0 1 0 0 0 0 0 1 0 0 0 0 0 0 0 0]\n",
            " [0 0 0 0 0 0 0 0 0 0 0 0 0 0 0 0 1 0 0]\n",
            " [0 0 0 0 0 0 0 0 0 0 0 0 0 0 0 0 0 0 1]\n",
            " [0 0 0 0 0 0 0 0 0 0 0 0 0 1 0 0 0 0 0]\n",
            " [1 0 0 0 0 0 0 0 0 0 0 0 0 0 0 0 0 0 0]]\n",
            "f1 type macro value is 0.63\n",
            "f1 type weighted value is 0.65\n",
            "macro 0.6344173238414058\n",
            "Epochs done: 8. Valid macro: 0.6344173238414058\n"
          ],
          "name": "stdout"
        },
        {
          "output_type": "stream",
          "text": [
            "Train: 100%|█████████▉| 1447/1448 [12:47<00:00,  1.88it/s, epoch=8, loss=0.0014]"
          ],
          "name": "stderr"
        },
        {
          "output_type": "display_data",
          "data": {
            "image/png": "[encoded data removed]",
            "text/plain": [
              "<Figure size 432x288 with 1 Axes>"
            ]
          },
          "metadata": {
            "tags": [],
            "needs_background": "light"
          }
        },
        {
          "output_type": "stream",
          "text": [
            "Train: 1449it [12:48,  1.77it/s, epoch=8, loss=0.00138]                          \n",
            "valid:   0%|          | 0/73 [00:00<?, ?it/s]\u001b[A\n",
            "valid: 74it [13:01, 10.56s/it]                        \n",
            "Train: 1449it [25:47,  1.07s/it, epoch=7, loss=0.00148]\n",
            "valid:   1%|▏         | 1/73 [00:00<00:14,  5.06it/s]"
          ],
          "name": "stderr"
        },
        {
          "output_type": "stream",
          "text": [
            "validating .... \n"
          ],
          "name": "stdout"
        },
        {
          "output_type": "stream",
          "text": [
            "Train:   0%|          | 0/1448 [00:00<?, ?it/s]"
          ],
          "name": "stderr"
        },
        {
          "output_type": "stream",
          "text": [
            "y_test (1174, 19)\n",
            "y_test\n",
            " [[0 0 0 0 0 0 0 0 0 0 0 0 0 0 0 0 0 0 1]\n",
            " [0 0 0 0 0 0 0 0 0 0 0 0 1 1 0 0 0 0 0]\n",
            " [1 0 0 0 0 0 0 0 0 0 0 0 0 0 0 0 1 0 0]\n",
            " [0 0 0 0 0 0 0 0 0 1 0 0 0 0 0 0 0 0 0]\n",
            " [0 0 0 0 1 0 0 0 0 0 0 0 0 0 0 0 1 0 0]\n",
            " [0 0 0 0 1 0 0 0 0 0 0 0 0 0 0 0 0 0 0]\n",
            " [0 0 0 0 1 0 0 0 0 0 1 0 0 0 0 0 0 0 0]\n",
            " [0 0 0 0 1 0 0 0 0 0 1 0 0 0 0 0 0 0 0]\n",
            " [0 0 0 0 0 0 0 0 0 0 0 0 0 1 0 0 0 0 0]\n",
            " [0 0 0 0 0 0 0 0 0 0 0 0 1 0 0 0 0 0 0]]\n",
            "y_pred_tag (1174, 19)\n",
            "y_pred_tag\n",
            " [[0 0 0 0 0 0 0 0 0 0 0 0 0 0 0 0 0 0 1]\n",
            " [0 0 0 0 0 0 0 0 0 0 0 0 0 1 0 0 0 0 0]\n",
            " [0 0 0 0 1 0 0 0 0 0 1 0 0 0 0 0 0 0 0]\n",
            " [0 0 0 0 0 0 0 0 0 1 0 0 0 0 0 0 0 0 0]\n",
            " [0 0 0 0 0 0 1 0 0 0 0 0 0 0 0 0 0 0 0]\n",
            " [0 0 0 0 1 0 0 0 0 0 0 0 0 0 0 0 0 0 0]\n",
            " [0 0 0 0 0 0 0 0 0 0 1 0 0 0 0 0 0 0 0]\n",
            " [0 0 0 0 0 0 0 0 0 0 1 0 0 0 0 0 0 0 0]\n",
            " [0 0 0 0 0 0 0 0 0 0 0 0 0 0 0 0 0 0 1]\n",
            " [0 0 0 0 0 0 0 0 0 0 0 0 1 0 0 0 0 0 0]]\n",
            "f1 type macro value is 0.62\n",
            "f1 type weighted value is 0.65\n",
            "macro 0.6205589399615139\n",
            "Epochs done: 9. Valid macro: 0.6205589399615139\n"
          ],
          "name": "stdout"
        },
        {
          "output_type": "stream",
          "text": [
            "Train: 100%|█████████▉| 1447/1448 [12:48<00:00,  1.88it/s, epoch=9, loss=0.00134]"
          ],
          "name": "stderr"
        },
        {
          "output_type": "display_data",
          "data": {
            "image/png": "[encoded data removed]",
            "text/plain": [
              "<Figure size 432x288 with 1 Axes>"
            ]
          },
          "metadata": {
            "tags": [],
            "needs_background": "light"
          }
        },
        {
          "output_type": "stream",
          "text": [
            "Train: 1449it [12:49,  1.77it/s, epoch=9, loss=0.00138]                          \n",
            "valid:   0%|          | 0/73 [00:00<?, ?it/s]\u001b[A\n",
            "valid: 74it [13:03, 10.58s/it]                        \n",
            "Train: 1449it [25:51,  1.07s/it, epoch=8, loss=0.00138]\n",
            "valid:   1%|▏         | 1/73 [00:00<00:15,  4.78it/s]"
          ],
          "name": "stderr"
        },
        {
          "output_type": "stream",
          "text": [
            "validating .... \n"
          ],
          "name": "stdout"
        },
        {
          "output_type": "stream",
          "text": [
            "valid: 100%|██████████| 73/73 [00:13<00:00,  5.68it/s]2021-03-05 06:55:01.848 INFO in 'deeppavlov.core.models.tf_model'['tf_model'] at line 75: [saving model to /content/drive/MyDrive/colab_files/Publication_v1/sensitive/sensitive_model_v1/model]\n"
          ],
          "name": "stderr"
        },
        {
          "output_type": "stream",
          "text": [
            "y_test (1174, 19)\n",
            "y_test\n",
            " [[1 0 0 0 0 0 0 0 0 1 0 0 1 0 0 0 0 0 0]\n",
            " [1 0 0 0 0 0 0 0 1 0 0 0 1 0 0 0 0 0 0]\n",
            " [0 0 0 0 0 0 0 0 0 0 0 0 0 0 1 0 0 0 0]\n",
            " [0 0 0 0 0 0 0 0 0 0 0 0 0 0 0 0 0 0 1]\n",
            " [0 0 0 0 0 0 0 0 0 0 0 0 0 1 0 0 0 0 0]\n",
            " [0 0 0 0 0 0 0 0 0 0 0 1 0 0 0 0 0 0 0]\n",
            " [0 0 0 0 0 0 0 0 0 0 0 1 0 0 0 0 0 0 0]\n",
            " [0 0 0 0 0 0 0 0 0 0 0 0 1 0 0 0 0 0 0]\n",
            " [0 0 0 0 0 0 0 0 0 1 0 0 0 0 0 0 0 0 0]\n",
            " [0 0 0 0 0 0 0 0 0 0 1 0 0 0 0 0 0 1 0]]\n",
            "y_pred_tag (1174, 19)\n",
            "y_pred_tag\n",
            " [[0 0 0 0 0 0 0 0 1 0 0 0 0 0 0 0 0 0 0]\n",
            " [1 0 0 0 0 0 0 0 0 0 0 0 1 0 0 0 0 0 0]\n",
            " [0 0 0 0 0 0 0 0 0 0 0 0 0 0 1 0 0 0 0]\n",
            " [0 0 0 0 0 0 0 0 0 0 1 0 0 0 0 0 0 0 0]\n",
            " [0 0 0 0 0 0 0 0 0 0 0 0 1 1 0 0 0 1 0]\n",
            " [0 0 0 0 0 0 0 0 0 0 0 1 0 0 0 0 0 0 0]\n",
            " [0 0 0 0 0 0 0 0 0 0 0 1 0 0 0 0 0 0 0]\n",
            " [0 0 0 0 0 0 0 0 0 0 0 0 0 0 0 0 0 0 1]\n",
            " [0 0 0 0 0 0 0 0 0 1 0 0 0 0 0 0 0 0 0]\n",
            " [0 0 0 0 0 0 0 0 0 0 0 0 0 0 0 0 0 0 1]]\n",
            "f1 type macro value is 0.64\n",
            "f1 type weighted value is 0.66\n",
            "macro 0.6392270386820126\n",
            "Epochs done: 10. Valid macro: 0.6392270386820126\n"
          ],
          "name": "stdout"
        },
        {
          "output_type": "stream",
          "text": [
            "\rTrain:   0%|          | 0/1448 [00:00<?, ?it/s]"
          ],
          "name": "stderr"
        },
        {
          "output_type": "stream",
          "text": [
            "New best score. Saving model.\n"
          ],
          "name": "stdout"
        },
        {
          "output_type": "stream",
          "text": [
            "Train: 100%|█████████▉| 1447/1448 [12:50<00:00,  1.87it/s, epoch=10, loss=0.00119]"
          ],
          "name": "stderr"
        },
        {
          "output_type": "display_data",
          "data": {
            "image/png": "[encoded data removed]",
            "text/plain": [
              "<Figure size 432x288 with 1 Axes>"
            ]
          },
          "metadata": {
            "tags": [],
            "needs_background": "light"
          }
        },
        {
          "output_type": "stream",
          "text": [
            "Train: 1449it [12:51,  1.59it/s, epoch=10, loss=0.00119]                          \n",
            "valid:   0%|          | 0/73 [00:00<?, ?it/s]\u001b[A\n",
            "valid: 74it [13:09, 10.68s/it]                        \n",
            "Train: 1449it [25:59,  1.08s/it, epoch=9, loss=0.00138]\n",
            "valid:   1%|▏         | 1/73 [00:00<00:15,  4.78it/s]"
          ],
          "name": "stderr"
        },
        {
          "output_type": "stream",
          "text": [
            "validating .... \n"
          ],
          "name": "stdout"
        },
        {
          "output_type": "stream",
          "text": [
            "valid: 100%|██████████| 73/73 [00:13<00:00,  5.52it/s]2021-03-05 07:08:11.886 INFO in 'deeppavlov.core.models.tf_model'['tf_model'] at line 75: [saving model to /content/drive/MyDrive/colab_files/Publication_v1/sensitive/sensitive_model_v1/model]\n"
          ],
          "name": "stderr"
        },
        {
          "output_type": "stream",
          "text": [
            "y_test (1174, 19)\n",
            "y_test\n",
            " [[0 0 0 0 0 0 0 0 0 0 0 0 0 0 0 0 0 1 0]\n",
            " [0 0 0 0 0 0 0 0 0 0 0 0 1 1 0 0 0 1 0]\n",
            " [0 0 0 0 0 0 0 0 0 1 0 0 0 0 0 0 0 0 0]\n",
            " [0 0 0 0 0 0 0 0 0 0 0 0 0 0 0 0 0 0 1]\n",
            " [0 0 0 0 0 0 0 0 0 0 0 0 0 0 0 0 1 0 0]\n",
            " [0 0 0 0 1 0 0 0 0 0 0 0 0 0 0 0 0 0 0]\n",
            " [0 0 0 0 0 0 0 0 0 1 0 0 0 0 0 0 0 0 0]\n",
            " [0 0 0 0 0 0 0 0 0 0 0 0 0 0 1 0 0 0 0]\n",
            " [0 1 0 0 0 0 0 0 0 0 0 0 0 0 0 0 0 0 0]\n",
            " [0 0 0 0 1 0 0 0 0 0 1 0 0 0 0 0 0 0 0]]\n",
            "y_pred_tag (1174, 19)\n",
            "y_pred_tag\n",
            " [[0 0 0 0 0 0 0 0 0 0 0 0 0 0 0 0 0 1 0]\n",
            " [0 0 0 0 0 0 0 0 0 0 0 0 1 1 0 0 0 1 0]\n",
            " [0 0 0 0 0 0 0 0 0 1 0 0 0 0 0 0 0 0 0]\n",
            " [0 0 0 0 0 0 0 0 0 0 0 0 0 0 0 0 0 0 1]\n",
            " [0 0 0 0 0 0 0 0 0 0 0 0 0 0 0 0 1 0 0]\n",
            " [0 0 0 0 1 0 0 0 0 0 0 0 0 0 0 0 0 0 0]\n",
            " [0 0 0 0 0 0 0 0 0 1 0 0 0 0 0 0 0 0 0]\n",
            " [0 0 0 0 0 0 0 0 0 0 0 0 0 0 1 0 0 0 0]\n",
            " [0 1 0 0 0 0 0 0 0 0 0 0 0 0 0 0 0 0 0]\n",
            " [0 0 0 0 1 0 0 0 0 0 1 0 0 0 0 0 0 0 0]]\n",
            "f1 type macro value is 0.65\n",
            "f1 type weighted value is 0.67\n",
            "macro 0.654326187816919\n",
            "Epochs done: 11. Valid macro: 0.654326187816919\n"
          ],
          "name": "stdout"
        },
        {
          "output_type": "stream",
          "text": [
            "\rTrain:   0%|          | 0/1448 [00:00<?, ?it/s]"
          ],
          "name": "stderr"
        },
        {
          "output_type": "stream",
          "text": [
            "New best score. Saving model.\n"
          ],
          "name": "stdout"
        },
        {
          "output_type": "stream",
          "text": [
            "Train: 100%|█████████▉| 1447/1448 [12:51<00:00,  1.87it/s, epoch=11, loss=0.00132]"
          ],
          "name": "stderr"
        },
        {
          "output_type": "display_data",
          "data": {
            "image/png": "[encoded data removed]",
            "text/plain": [
              "<Figure size 432x288 with 1 Axes>"
            ]
          },
          "metadata": {
            "tags": [],
            "needs_background": "light"
          }
        },
        {
          "output_type": "stream",
          "text": [
            "Train: 1449it [12:53,  1.78it/s, epoch=11, loss=0.00131]                          \n",
            "valid:   0%|          | 0/73 [00:00<?, ?it/s]\u001b[A\n",
            "valid: 74it [13:11, 10.69s/it]                        \n",
            "Train: 1449it [26:03,  1.08s/it, epoch=10, loss=0.00119]\n",
            "valid:   1%|▏         | 1/73 [00:00<00:15,  4.75it/s]"
          ],
          "name": "stderr"
        },
        {
          "output_type": "stream",
          "text": [
            "validating .... \n"
          ],
          "name": "stdout"
        },
        {
          "output_type": "stream",
          "text": [
            "valid: 100%|██████████| 73/73 [00:12<00:00,  5.64it/s]2021-03-05 07:21:23.31 INFO in 'deeppavlov.core.models.tf_model'['tf_model'] at line 75: [saving model to /content/drive/MyDrive/colab_files/Publication_v1/sensitive/sensitive_model_v1/model]\n"
          ],
          "name": "stderr"
        },
        {
          "output_type": "stream",
          "text": [
            "y_test (1174, 19)\n",
            "y_test\n",
            " [[0 0 0 0 0 0 0 0 0 0 0 0 0 0 0 0 0 0 1]\n",
            " [0 0 0 0 0 1 0 0 0 0 0 0 0 0 0 0 0 0 0]\n",
            " [0 0 0 0 0 0 0 0 0 0 0 0 1 1 0 0 0 1 0]\n",
            " [0 1 0 0 0 0 0 0 0 0 0 0 0 0 0 0 0 0 0]\n",
            " [0 0 0 0 0 0 0 0 0 0 0 0 0 0 1 0 0 0 0]\n",
            " [0 0 0 0 0 1 0 0 0 0 1 0 0 0 0 0 1 0 0]\n",
            " [0 0 0 0 0 0 0 0 0 0 0 0 0 0 0 0 1 0 0]\n",
            " [0 0 0 0 1 0 0 0 0 0 0 0 0 0 0 0 0 0 0]\n",
            " [0 0 0 0 0 0 0 0 0 0 0 0 0 0 0 0 0 0 1]\n",
            " [0 0 0 0 0 0 0 0 0 0 0 0 0 0 0 0 1 0 0]]\n",
            "y_pred_tag (1174, 19)\n",
            "y_pred_tag\n",
            " [[0 0 0 0 0 0 0 0 0 0 0 0 0 0 0 0 0 0 1]\n",
            " [0 0 0 0 0 1 0 0 0 0 0 0 0 0 0 0 0 0 0]\n",
            " [0 0 0 0 0 0 0 0 0 0 0 0 1 1 0 0 0 1 0]\n",
            " [0 1 0 0 0 0 0 0 0 0 0 0 0 0 0 0 0 0 0]\n",
            " [0 0 0 0 0 0 0 0 0 0 0 0 0 0 1 0 0 0 0]\n",
            " [0 0 0 0 0 0 0 0 0 0 0 0 0 0 0 0 1 0 0]\n",
            " [0 0 0 0 0 0 0 0 0 0 0 0 0 0 0 0 1 0 0]\n",
            " [0 0 0 0 1 0 0 0 0 0 0 0 0 0 0 0 0 0 0]\n",
            " [0 0 0 0 0 0 0 0 0 0 0 0 0 0 0 0 0 0 1]\n",
            " [0 0 0 0 0 0 0 0 0 0 1 0 0 0 0 0 0 0 0]]\n",
            "f1 type macro value is 0.66\n",
            "f1 type weighted value is 0.67\n",
            "macro 0.6576851784877064\n",
            "Epochs done: 12. Valid macro: 0.6576851784877064\n"
          ],
          "name": "stdout"
        },
        {
          "output_type": "stream",
          "text": [
            "\rTrain:   0%|          | 0/1448 [00:00<?, ?it/s]"
          ],
          "name": "stderr"
        },
        {
          "output_type": "stream",
          "text": [
            "New best score. Saving model.\n"
          ],
          "name": "stdout"
        },
        {
          "output_type": "stream",
          "text": [
            "Train: 100%|█████████▉| 1447/1448 [12:49<00:00,  1.89it/s, epoch=12, loss=0.00119]"
          ],
          "name": "stderr"
        },
        {
          "output_type": "display_data",
          "data": {
            "image/png": "[encoded data removed]",
            "text/plain": [
              "<Figure size 432x288 with 1 Axes>"
            ]
          },
          "metadata": {
            "tags": [],
            "needs_background": "light"
          }
        },
        {
          "output_type": "stream",
          "text": [
            "Train: 1449it [12:50,  1.79it/s, epoch=12, loss=0.00118]                          \n",
            "valid:   0%|          | 0/73 [00:00<?, ?it/s]\u001b[A\n",
            "valid: 74it [13:08, 10.66s/it]                        \n",
            "Train: 1449it [26:02,  1.08s/it, epoch=11, loss=0.00131]\n",
            "valid:   1%|▏         | 1/73 [00:00<00:15,  4.74it/s]"
          ],
          "name": "stderr"
        },
        {
          "output_type": "stream",
          "text": [
            "validating .... \n"
          ],
          "name": "stdout"
        },
        {
          "output_type": "stream",
          "text": [
            "valid: 100%|██████████| 73/73 [00:12<00:00,  5.63it/s]2021-03-05 07:34:31.897 INFO in 'deeppavlov.core.models.tf_model'['tf_model'] at line 75: [saving model to /content/drive/MyDrive/colab_files/Publication_v1/sensitive/sensitive_model_v1/model]\n"
          ],
          "name": "stderr"
        },
        {
          "output_type": "stream",
          "text": [
            "y_test (1174, 19)\n",
            "y_test\n",
            " [[0 0 0 0 0 0 0 0 0 0 0 0 1 0 0 0 0 0 0]\n",
            " [0 0 0 0 0 0 0 0 0 0 1 0 0 0 0 0 0 0 0]\n",
            " [0 0 0 0 1 0 0 0 0 0 0 0 0 0 0 1 0 0 0]\n",
            " [0 0 0 0 1 0 0 0 0 0 0 0 0 0 0 0 0 0 0]\n",
            " [0 0 0 0 0 0 0 0 0 0 0 0 0 0 0 0 0 0 1]\n",
            " [0 0 0 0 0 0 0 0 0 0 0 0 0 0 0 0 1 0 0]\n",
            " [1 0 0 0 0 0 0 0 0 0 0 0 1 0 0 0 0 0 0]\n",
            " [1 0 0 0 0 0 0 0 0 0 0 0 0 0 0 0 0 0 0]\n",
            " [0 0 0 0 0 0 0 0 0 0 0 0 0 0 0 0 1 0 0]\n",
            " [0 0 0 0 0 0 0 0 0 0 0 0 1 0 0 0 0 0 0]]\n",
            "y_pred_tag (1174, 19)\n",
            "y_pred_tag\n",
            " [[0 0 0 0 0 0 0 0 0 0 0 0 1 0 0 0 0 0 0]\n",
            " [0 0 0 0 0 0 0 0 0 0 1 0 0 0 0 0 0 0 0]\n",
            " [0 0 0 0 0 0 0 0 0 0 0 0 0 0 0 1 0 0 0]\n",
            " [0 0 0 0 1 0 0 0 0 0 0 0 0 0 0 0 0 0 0]\n",
            " [0 0 0 0 0 0 0 0 0 0 0 0 0 0 0 0 0 0 1]\n",
            " [0 0 0 0 0 0 0 0 0 0 0 0 0 0 0 0 1 0 0]\n",
            " [1 0 0 0 0 0 0 0 0 0 0 0 0 0 0 0 0 0 0]\n",
            " [1 0 0 0 0 0 0 0 0 0 0 0 0 0 0 0 0 0 0]\n",
            " [0 0 0 0 0 0 0 0 0 0 0 0 1 0 0 0 0 0 0]\n",
            " [0 0 0 0 0 0 0 0 0 0 0 0 1 1 0 0 0 0 0]]\n",
            "f1 type macro value is 0.67\n",
            "f1 type weighted value is 0.68\n",
            "macro 0.6669910732591953\n",
            "Epochs done: 13. Valid macro: 0.6669910732591953\n"
          ],
          "name": "stdout"
        },
        {
          "output_type": "stream",
          "text": [
            "\rTrain:   0%|          | 0/1448 [00:00<?, ?it/s]"
          ],
          "name": "stderr"
        },
        {
          "output_type": "stream",
          "text": [
            "New best score. Saving model.\n"
          ],
          "name": "stdout"
        },
        {
          "output_type": "stream",
          "text": [
            "Train: 100%|█████████▉| 1447/1448 [12:52<00:00,  1.88it/s, epoch=13, loss=0.00102]"
          ],
          "name": "stderr"
        },
        {
          "output_type": "display_data",
          "data": {
            "image/png": "[encoded data removed]",
            "text/plain": [
              "<Figure size 432x288 with 1 Axes>"
            ]
          },
          "metadata": {
            "tags": [],
            "needs_background": "light"
          }
        },
        {
          "output_type": "stream",
          "text": [
            "Train: 1449it [12:53,  1.76it/s, epoch=13, loss=0.00104]                          \n",
            "valid:   0%|          | 0/73 [00:00<?, ?it/s]\u001b[A\n",
            "valid: 74it [13:11, 10.69s/it]                        \n",
            "Train: 1449it [26:01,  1.08s/it, epoch=12, loss=0.00118]\n",
            "valid:   1%|▏         | 1/73 [00:00<00:15,  4.58it/s]"
          ],
          "name": "stderr"
        },
        {
          "output_type": "stream",
          "text": [
            "validating .... \n"
          ],
          "name": "stdout"
        },
        {
          "output_type": "stream",
          "text": [
            "Train:   0%|          | 0/1448 [00:00<?, ?it/s]"
          ],
          "name": "stderr"
        },
        {
          "output_type": "stream",
          "text": [
            "y_test (1174, 19)\n",
            "y_test\n",
            " [[0 0 0 0 0 0 0 0 0 0 0 0 0 0 0 0 1 1 0]\n",
            " [0 0 0 0 0 0 0 0 0 0 1 0 0 0 0 0 0 0 0]\n",
            " [0 0 0 0 0 0 0 0 0 0 0 0 0 0 0 0 0 0 1]\n",
            " [0 0 1 0 0 0 0 0 0 0 0 0 0 0 0 0 0 0 0]\n",
            " [0 0 0 0 0 0 0 0 0 0 0 0 0 0 0 0 0 1 0]\n",
            " [0 0 0 0 0 0 0 0 0 0 0 0 1 1 0 0 0 1 0]\n",
            " [0 0 1 0 0 0 0 0 0 0 0 0 0 0 0 0 0 0 0]\n",
            " [0 0 0 0 0 0 0 0 0 0 0 0 0 0 0 0 0 0 1]\n",
            " [0 0 0 0 0 0 1 0 0 0 0 0 0 1 0 0 0 0 0]\n",
            " [0 0 0 0 1 0 0 0 0 0 0 0 0 0 0 1 0 0 0]]\n",
            "y_pred_tag (1174, 19)\n",
            "y_pred_tag\n",
            " [[0 0 0 0 0 0 0 0 0 0 0 0 0 0 0 0 1 1 0]\n",
            " [0 0 0 0 0 0 0 0 0 0 1 0 0 0 0 0 0 0 0]\n",
            " [0 0 0 0 0 0 0 0 0 0 0 0 0 0 0 0 0 0 1]\n",
            " [0 0 1 0 0 0 0 0 0 0 0 0 0 0 0 0 0 0 0]\n",
            " [0 0 0 0 0 0 0 0 0 0 0 0 0 0 0 0 0 1 0]\n",
            " [0 0 0 0 0 0 0 0 0 0 0 0 0 1 0 0 0 0 0]\n",
            " [0 0 1 0 0 0 0 0 0 0 0 0 0 0 0 0 0 0 0]\n",
            " [0 0 0 0 0 0 0 0 0 0 0 0 0 0 0 0 0 0 1]\n",
            " [0 0 0 0 0 0 1 0 0 0 0 0 0 0 0 0 0 0 0]\n",
            " [0 0 0 0 1 0 0 0 0 0 0 0 0 0 0 1 0 0 0]]\n",
            "f1 type macro value is 0.66\n",
            "f1 type weighted value is 0.68\n",
            "macro 0.664164055031494\n",
            "Epochs done: 14. Valid macro: 0.664164055031494\n"
          ],
          "name": "stdout"
        },
        {
          "output_type": "stream",
          "text": [
            "Train: 100%|█████████▉| 1447/1448 [12:52<00:00,  1.87it/s, epoch=14, loss=0.00111]"
          ],
          "name": "stderr"
        },
        {
          "output_type": "display_data",
          "data": {
            "image/png": "[encoded data removed]",
            "text/plain": [
              "<Figure size 432x288 with 1 Axes>"
            ]
          },
          "metadata": {
            "tags": [],
            "needs_background": "light"
          }
        },
        {
          "output_type": "stream",
          "text": [
            "Train: 1449it [12:54,  1.76it/s, epoch=14, loss=0.00112]                          \n",
            "valid:   0%|          | 0/73 [00:00<?, ?it/s]\u001b[A\n",
            "valid: 74it [13:07, 10.64s/it]                        \n",
            "Train: 1449it [26:00,  1.08s/it, epoch=13, loss=0.00104]\n",
            "valid:   1%|▏         | 1/73 [00:00<00:15,  4.56it/s]"
          ],
          "name": "stderr"
        },
        {
          "output_type": "stream",
          "text": [
            "validating .... \n"
          ],
          "name": "stdout"
        },
        {
          "output_type": "stream",
          "text": [
            "Train:   0%|          | 0/1448 [00:00<?, ?it/s]"
          ],
          "name": "stderr"
        },
        {
          "output_type": "stream",
          "text": [
            "y_test (1174, 19)\n",
            "y_test\n",
            " [[0 0 0 0 0 0 0 0 0 0 0 0 0 0 1 0 0 0 0]\n",
            " [0 0 0 0 0 0 0 0 0 1 0 0 0 0 0 0 0 0 0]\n",
            " [0 0 0 0 0 0 0 0 0 0 0 0 0 0 0 0 0 0 1]\n",
            " [0 0 0 0 0 0 0 0 0 0 0 0 0 0 0 0 0 0 1]\n",
            " [1 0 0 0 0 0 0 0 0 0 0 0 0 0 0 0 0 0 0]\n",
            " [0 0 0 0 0 0 0 0 0 0 0 0 0 0 0 0 0 1 0]\n",
            " [0 0 0 0 1 0 0 0 0 0 0 0 0 0 0 0 0 0 0]\n",
            " [0 0 1 0 0 0 0 0 0 0 0 0 0 0 0 0 0 0 0]\n",
            " [0 0 0 0 0 0 0 0 0 0 1 0 0 0 0 0 0 0 0]\n",
            " [0 0 0 0 0 0 0 0 0 0 0 0 0 0 0 0 0 1 0]]\n",
            "y_pred_tag (1174, 19)\n",
            "y_pred_tag\n",
            " [[0 0 0 0 0 0 0 0 0 0 0 0 0 0 1 0 0 0 0]\n",
            " [0 0 0 0 0 0 0 0 0 1 0 0 0 0 0 0 0 0 0]\n",
            " [0 0 0 0 0 0 0 0 0 0 0 0 0 0 0 0 0 0 1]\n",
            " [1 0 0 0 0 0 0 0 0 0 0 0 0 0 0 0 0 1 0]\n",
            " [1 0 0 0 0 0 0 0 0 0 0 0 0 0 0 0 0 0 0]\n",
            " [0 0 0 0 0 0 0 0 0 0 0 0 0 0 0 0 0 1 0]\n",
            " [0 0 0 0 0 0 0 0 0 0 0 0 0 0 0 0 0 0 1]\n",
            " [0 0 1 0 0 0 0 0 0 0 0 0 0 0 0 0 0 0 0]\n",
            " [0 0 0 0 0 0 0 0 0 0 1 0 0 0 0 0 0 1 0]\n",
            " [0 0 0 0 0 1 0 0 0 0 0 0 0 0 0 0 0 0 0]]\n",
            "f1 type macro value is 0.66\n",
            "f1 type weighted value is 0.67\n",
            "macro 0.6552883910793952\n",
            "Epochs done: 15. Valid macro: 0.6552883910793952\n"
          ],
          "name": "stdout"
        },
        {
          "output_type": "stream",
          "text": [
            "Train: 100%|█████████▉| 1447/1448 [12:52<00:00,  1.88it/s, epoch=15, loss=0.00111]"
          ],
          "name": "stderr"
        },
        {
          "output_type": "display_data",
          "data": {
            "image/png": "[encoded data removed]",
            "text/plain": [
              "<Figure size 432x288 with 1 Axes>"
            ]
          },
          "metadata": {
            "tags": [],
            "needs_background": "light"
          }
        },
        {
          "output_type": "stream",
          "text": [
            "Train: 1449it [12:54,  1.78it/s, epoch=15, loss=0.00108]                          \n",
            "valid:   0%|          | 0/73 [00:00<?, ?it/s]\u001b[A\n",
            "valid: 74it [13:07, 10.64s/it]                        \n",
            "Train: 1449it [26:01,  1.08s/it, epoch=14, loss=0.00112]\n",
            "valid:   1%|▏         | 1/73 [00:00<00:13,  5.14it/s]"
          ],
          "name": "stderr"
        },
        {
          "output_type": "stream",
          "text": [
            "validating .... \n"
          ],
          "name": "stdout"
        },
        {
          "output_type": "stream",
          "text": [
            "Train:   0%|          | 0/1448 [00:00<?, ?it/s]"
          ],
          "name": "stderr"
        },
        {
          "output_type": "stream",
          "text": [
            "y_test (1174, 19)\n",
            "y_test\n",
            " [[1 0 0 0 0 0 0 0 0 0 0 0 1 0 0 0 0 0 0]\n",
            " [0 0 0 0 0 0 0 0 0 0 0 0 0 1 1 0 0 0 0]\n",
            " [1 0 0 0 0 0 0 1 0 0 0 0 0 0 0 0 0 0 0]\n",
            " [0 1 0 0 0 0 0 0 0 0 0 0 0 0 0 0 0 0 0]\n",
            " [0 0 0 0 0 0 0 0 0 0 0 0 0 0 1 0 0 0 0]\n",
            " [0 0 0 0 0 0 0 0 0 1 0 0 0 0 0 0 0 0 0]\n",
            " [0 0 0 0 1 1 0 0 0 0 0 0 0 0 0 0 1 0 0]\n",
            " [0 0 1 0 0 0 0 0 0 0 0 0 0 0 0 0 0 0 0]\n",
            " [0 0 0 0 0 0 0 0 0 0 0 0 0 0 0 0 0 1 0]\n",
            " [0 0 0 0 0 0 0 0 0 0 0 1 0 0 0 0 0 0 0]]\n",
            "y_pred_tag (1174, 19)\n",
            "y_pred_tag\n",
            " [[1 0 0 0 0 0 0 0 0 0 0 0 0 0 0 0 0 0 0]\n",
            " [0 0 0 0 0 0 0 0 0 0 0 0 0 0 1 0 0 0 0]\n",
            " [1 0 0 0 0 0 0 0 0 0 0 0 0 0 0 0 0 0 0]\n",
            " [0 1 0 0 0 0 0 0 0 0 0 0 0 0 0 0 0 0 0]\n",
            " [0 0 0 0 0 0 0 0 0 0 0 0 0 0 1 0 0 0 0]\n",
            " [0 0 0 0 0 0 0 0 0 1 0 0 0 0 0 0 0 0 0]\n",
            " [0 0 0 0 1 0 0 0 0 0 0 0 0 0 0 0 0 0 0]\n",
            " [0 0 1 0 0 0 0 0 0 0 0 0 0 0 0 0 0 0 0]\n",
            " [0 0 0 0 0 0 0 0 0 0 0 0 0 0 0 0 0 1 0]\n",
            " [0 0 0 0 0 0 0 0 0 0 0 1 0 0 0 0 0 0 0]]\n",
            "f1 type macro value is 0.64\n",
            "f1 type weighted value is 0.67\n",
            "macro 0.6442920316606507\n",
            "Epochs done: 16. Valid macro: 0.6442920316606507\n"
          ],
          "name": "stdout"
        },
        {
          "output_type": "stream",
          "text": [
            "Train: 100%|█████████▉| 1447/1448 [12:51<00:00,  1.87it/s, epoch=16, loss=0.00107]"
          ],
          "name": "stderr"
        },
        {
          "output_type": "display_data",
          "data": {
            "image/png": "[encoded data removed]",
            "text/plain": [
              "<Figure size 432x288 with 1 Axes>"
            ]
          },
          "metadata": {
            "tags": [],
            "needs_background": "light"
          }
        },
        {
          "output_type": "stream",
          "text": [
            "Train: 1449it [12:52,  1.76it/s, epoch=16, loss=0.00105]                          \n",
            "valid:   0%|          | 0/73 [00:00<?, ?it/s]\u001b[A\n",
            "valid: 74it [13:05, 10.61s/it]                        \n",
            "Train: 1449it [25:59,  1.08s/it, epoch=15, loss=0.00108]\n",
            "valid:   1%|▏         | 1/73 [00:00<00:15,  4.80it/s]"
          ],
          "name": "stderr"
        },
        {
          "output_type": "stream",
          "text": [
            "validating .... \n"
          ],
          "name": "stdout"
        },
        {
          "output_type": "stream",
          "text": [
            "Train:   0%|          | 0/1448 [00:00<?, ?it/s]"
          ],
          "name": "stderr"
        },
        {
          "output_type": "stream",
          "text": [
            "y_test (1174, 19)\n",
            "y_test\n",
            " [[0 0 0 0 0 0 0 0 0 1 0 0 0 0 0 0 0 0 0]\n",
            " [0 0 0 0 0 0 0 0 0 0 0 1 0 0 0 0 0 0 0]\n",
            " [0 0 0 0 0 0 0 0 0 0 0 0 0 0 0 0 0 0 1]\n",
            " [0 0 0 0 0 0 0 0 0 0 0 0 0 0 0 0 1 0 0]\n",
            " [0 0 0 0 1 0 0 0 0 0 0 0 0 0 0 1 0 0 0]\n",
            " [0 0 0 0 0 0 0 0 0 0 0 0 0 0 0 0 1 0 0]\n",
            " [0 0 0 0 0 0 0 0 0 1 0 0 0 0 0 0 0 0 0]\n",
            " [0 0 0 0 0 0 0 0 0 0 0 0 0 0 0 0 1 1 0]\n",
            " [0 0 0 0 0 1 0 0 0 0 0 0 0 0 0 0 0 0 0]\n",
            " [0 0 0 0 0 0 0 0 0 0 0 0 0 0 0 0 1 0 0]]\n",
            "y_pred_tag (1174, 19)\n",
            "y_pred_tag\n",
            " [[0 0 0 0 0 0 0 0 0 0 0 0 0 0 0 0 0 0 1]\n",
            " [0 0 0 0 0 0 0 0 0 0 0 1 0 0 0 0 0 0 0]\n",
            " [0 0 0 0 0 0 0 0 0 0 0 0 0 0 0 0 0 0 1]\n",
            " [0 0 0 0 1 0 0 0 0 0 0 1 0 0 0 0 0 0 0]\n",
            " [0 0 0 0 1 0 0 0 0 0 0 0 0 0 0 0 0 0 0]\n",
            " [0 0 0 0 0 0 0 0 0 0 0 0 0 0 0 0 1 0 0]\n",
            " [0 0 0 0 0 0 0 0 0 0 0 0 0 0 0 0 0 0 1]\n",
            " [0 0 0 0 0 0 0 0 0 0 0 0 0 0 0 0 1 0 0]\n",
            " [0 0 0 0 0 1 0 0 0 0 0 0 0 0 0 0 1 0 0]\n",
            " [0 0 0 0 0 0 0 0 0 0 0 0 0 0 0 0 1 0 0]]\n",
            "f1 type macro value is 0.65\n",
            "f1 type weighted value is 0.67\n",
            "macro 0.6468384187239498\n",
            "Epochs done: 17. Valid macro: 0.6468384187239498\n"
          ],
          "name": "stdout"
        },
        {
          "output_type": "stream",
          "text": [
            "Train:  69%|██████▊   | 993/1448 [08:49<04:01,  1.89it/s, epoch=17, loss=0.00113]"
          ],
          "name": "stderr"
        }
      ]
    },
    {
      "cell_type": "markdown",
      "metadata": {
        "id": "-03L1Ih9I_Vn"
      },
      "source": [
        "# Final validations"
      ]
    },
    {
      "cell_type": "code",
      "metadata": {
        "id": "qvROhKurl_up",
        "colab": {
          "base_uri": "https://localhost:8080/"
        },
        "outputId": "2344a9a2-b070-4728-ea1a-1800eb884345"
      },
      "source": [
        "BATCH_SIZE = 16\r\n",
        "y_valid_trues = []\r\n",
        "y_valid_preds = []\r\n",
        "progress_bar_valid = tqdm(total=int(len(df_val)/BATCH_SIZE), desc='valid')\r\n",
        "for instance in list(tqdm._instances):\r\n",
        "      tqdm._decr_instances(instance)\r\n",
        "print(\"validating .... \")\r\n",
        "for x, y in iterator.gen_batches(batch_size=BATCH_SIZE, \r\n",
        "                                    data_type=\"test\", shuffle=True):\r\n",
        "        y_valid_pred = bert_classifier(bert_preprocessor(x))#best\r\n",
        "        y_valid_preds.extend(y_valid_pred)\r\n",
        "\r\n",
        "        y_valid_trues.extend(y)\r\n",
        "        progress_bar_valid.update()\r\n",
        "\r\n",
        "\r\n",
        "score = get_metrics(y_valid_trues, y_valid_preds)"
      ],
      "execution_count": 29,
      "outputs": [
        {
          "output_type": "stream",
          "text": [
            "valid:   0%|          | 0/73 [00:18<?, ?it/s]\n"
          ],
          "name": "stderr"
        },
        {
          "output_type": "stream",
          "text": [
            "validating .... \n"
          ],
          "name": "stdout"
        },
        {
          "output_type": "stream",
          "text": [
            "valid: 83it [27:21, 17.56s/it]"
          ],
          "name": "stderr"
        },
        {
          "output_type": "stream",
          "text": [
            "y_test (1322, 19)\n",
            "y_test\n",
            " [[1 0 0 0 0 0 0 0 0 0 0 0 0 0 0 0 0 0 0]\n",
            " [0 0 0 0 0 0 0 0 0 0 0 0 0 0 0 0 0 0 1]\n",
            " [0 0 0 0 1 0 0 0 0 0 0 0 1 0 0 1 0 0 0]\n",
            " [0 0 0 0 1 1 0 0 0 0 0 0 0 0 0 0 0 0 0]\n",
            " [0 0 0 0 1 0 0 0 0 0 0 0 0 0 0 0 1 0 0]\n",
            " [0 0 0 0 0 0 0 0 0 0 0 0 1 0 0 0 0 0 0]\n",
            " [0 0 0 0 0 0 0 0 0 0 0 0 0 0 0 0 0 0 1]\n",
            " [0 0 0 0 0 0 0 0 0 0 0 0 1 1 0 0 0 0 0]\n",
            " [0 0 0 0 0 0 0 0 0 0 1 0 0 0 0 0 0 0 0]\n",
            " [0 0 0 0 0 0 0 0 0 0 0 0 0 0 0 0 0 0 1]]\n",
            "y_pred_tag (1322, 19)\n",
            "y_pred_tag\n",
            " [[0 0 0 0 0 0 0 0 0 0 0 0 0 0 0 0 0 1 0]\n",
            " [0 0 0 0 0 0 0 0 0 0 0 0 0 0 0 0 0 0 1]\n",
            " [0 0 0 0 0 0 0 0 0 0 0 0 0 0 0 1 0 0 0]\n",
            " [0 0 0 0 1 1 0 0 0 0 0 0 0 0 0 0 0 0 0]\n",
            " [0 0 0 0 1 0 0 0 0 0 0 0 0 0 0 0 0 0 0]\n",
            " [0 0 0 0 0 0 0 0 0 0 0 0 0 0 0 0 0 0 1]\n",
            " [1 0 0 0 0 0 0 0 0 0 0 0 1 0 0 0 0 0 0]\n",
            " [0 0 0 0 0 0 0 0 0 0 0 0 1 1 0 0 0 0 0]\n",
            " [0 0 0 0 0 0 0 0 0 0 1 0 0 0 0 0 0 0 0]\n",
            " [0 1 0 0 0 0 0 0 0 0 0 0 0 0 0 0 0 0 0]]\n",
            "f1 type macro value is 0.64\n",
            "f1 type weighted value is 0.66\n"
          ],
          "name": "stdout"
        }
      ]
    },
    {
      "cell_type": "code",
      "metadata": {
        "id": "msoDmq8nLPNY"
      },
      "source": [
        "topic2count_dict = {}\r\n",
        "for col in list(df_val.columns)[1:]:\r\n",
        "    cnt = sum(df_val[col])\r\n",
        "    topic2count_dict[col] = cnt\r\n",
        "topic2count_dict['none'] = 'no_count'"
      ],
      "execution_count": 30,
      "outputs": []
    },
    {
      "cell_type": "code",
      "metadata": {
        "id": "wH0fvtGiKa82",
        "colab": {
          "base_uri": "https://localhost:8080/"
        },
        "outputId": "b4878ae0-2302-431c-fb73-54e94c97f995"
      },
      "source": [
        "score = get_metrics(y_valid_trues, y_valid_preds, for_classifier = False)"
      ],
      "execution_count": 31,
      "outputs": [
        {
          "output_type": "stream",
          "text": [
            "y_test (1322, 19)\n",
            "y_test\n",
            " [[0 0 0 0 0 0 0 0 0 0 0 0 0 0 0 0 0 0 1]\n",
            " [0 0 0 0 0 0 0 0 0 0 0 0 1 0 0 0 0 0 0]\n",
            " [0 0 0 0 0 1 0 0 0 0 0 0 0 0 0 0 0 0 0]\n",
            " [0 0 0 0 0 0 0 0 0 0 0 1 0 0 0 0 0 0 0]\n",
            " [0 0 0 0 0 0 0 0 1 0 0 0 0 0 0 0 0 0 0]\n",
            " [0 0 0 0 0 0 0 0 0 0 0 0 0 0 0 0 0 0 1]\n",
            " [0 0 0 0 1 0 0 0 0 0 0 0 0 0 0 1 0 0 0]\n",
            " [0 0 0 0 0 0 0 0 0 1 0 0 0 0 0 0 0 0 0]\n",
            " [0 0 0 0 0 0 0 0 0 0 0 1 0 0 0 0 0 0 0]\n",
            " [0 0 0 0 0 0 0 0 0 0 0 0 0 0 0 1 0 0 0]]\n",
            "y_pred_tag (1322, 19)\n",
            "y_pred_tag\n",
            " [[0 0 0 0 0 0 0 0 0 0 0 0 0 0 0 0 0 0 1]\n",
            " [0 0 0 0 0 0 0 0 0 0 0 0 1 1 0 0 0 0 0]\n",
            " [0 0 0 0 0 1 0 0 0 0 0 0 0 0 0 0 1 0 0]\n",
            " [0 0 0 0 0 0 0 0 0 0 0 1 0 0 0 0 0 0 0]\n",
            " [1 0 0 0 0 0 0 0 0 0 0 0 1 0 0 0 0 0 0]\n",
            " [0 0 0 0 0 0 0 0 0 0 0 0 0 0 0 0 0 0 1]\n",
            " [0 0 0 0 0 0 0 0 0 0 0 0 0 0 0 1 0 0 0]\n",
            " [0 0 0 0 0 0 0 0 0 1 0 0 0 0 0 0 0 0 0]\n",
            " [0 0 0 0 0 0 0 0 0 0 0 1 0 0 0 0 0 0 0]\n",
            " [0 0 0 0 0 0 0 0 0 0 0 0 0 0 0 1 0 0 0]]\n",
            "f1 type macro value is 0.64\n",
            "f1 type weighted value is 0.66\n"
          ],
          "name": "stdout"
        }
      ]
    },
    {
      "cell_type": "code",
      "metadata": {
        "id": "AjuFqQiBKHJ4",
        "colab": {
          "base_uri": "https://localhost:8080/"
        },
        "outputId": "b0ea4d15-7942-4916-e1d4-7a620e0afad1"
      },
      "source": [
        "score"
      ],
      "execution_count": 32,
      "outputs": [
        {
          "output_type": "execute_result",
          "data": {
            "text/plain": [
              "array([0.53535354, 0.39285714, 0.77922078, 0.76923077, 0.62569832,\n",
              "       0.68456376, 0.62686567, 0.46153846, 0.48351648, 0.84644195,\n",
              "       0.75897436, 0.78362573, 0.65151515, 0.68666667, 0.8447205 ,\n",
              "       0.61333333, 0.60638298, 0.44280443, 0.65517241])"
            ]
          },
          "metadata": {
            "tags": []
          },
          "execution_count": 32
        }
      ]
    },
    {
      "cell_type": "code",
      "metadata": {
        "id": "Pqt3a5tLJ7hj"
      },
      "source": [
        "df_classes = pd.DataFrame({'class':topics_list,'f1':score})"
      ],
      "execution_count": 33,
      "outputs": []
    },
    {
      "cell_type": "code",
      "metadata": {
        "id": "hn9sUXu4L8qJ"
      },
      "source": [
        "def get_count(topic):\r\n",
        "  return topic2count_dict[topic]\r\n",
        "df_classes['validation_count'] = df_classes['class'].apply(get_count)"
      ],
      "execution_count": 34,
      "outputs": []
    },
    {
      "cell_type": "code",
      "metadata": {
        "id": "SWy6tqm5KJ5R",
        "colab": {
          "base_uri": "https://localhost:8080/",
          "height": 645
        },
        "outputId": "0ab0838a-fd04-4bd9-e474-f4370a81845f"
      },
      "source": [
        "df_classes.head(100)"
      ],
      "execution_count": 35,
      "outputs": [
        {
          "output_type": "execute_result",
          "data": {
            "text/html": [
              "<div>\n",
              "<style scoped>\n",
              "    .dataframe tbody tr th:only-of-type {\n",
              "        vertical-align: middle;\n",
              "    }\n",
              "\n",
              "    .dataframe tbody tr th {\n",
              "        vertical-align: top;\n",
              "    }\n",
              "\n",
              "    .dataframe thead th {\n",
              "        text-align: right;\n",
              "    }\n",
              "</style>\n",
              "<table border=\"1\" class=\"dataframe\">\n",
              "  <thead>\n",
              "    <tr style=\"text-align: right;\">\n",
              "      <th></th>\n",
              "      <th>class</th>\n",
              "      <th>f1</th>\n",
              "      <th>validation_count</th>\n",
              "    </tr>\n",
              "  </thead>\n",
              "  <tbody>\n",
              "    <tr>\n",
              "      <th>0</th>\n",
              "      <td>offline_crime</td>\n",
              "      <td>0.535354</td>\n",
              "      <td>93</td>\n",
              "    </tr>\n",
              "    <tr>\n",
              "      <th>1</th>\n",
              "      <td>online_crime</td>\n",
              "      <td>0.392857</td>\n",
              "      <td>28</td>\n",
              "    </tr>\n",
              "    <tr>\n",
              "      <th>2</th>\n",
              "      <td>drugs</td>\n",
              "      <td>0.779221</td>\n",
              "      <td>64</td>\n",
              "    </tr>\n",
              "    <tr>\n",
              "      <th>3</th>\n",
              "      <td>gambling</td>\n",
              "      <td>0.769231</td>\n",
              "      <td>3</td>\n",
              "    </tr>\n",
              "    <tr>\n",
              "      <th>4</th>\n",
              "      <td>pornography</td>\n",
              "      <td>0.625698</td>\n",
              "      <td>141</td>\n",
              "    </tr>\n",
              "    <tr>\n",
              "      <th>5</th>\n",
              "      <td>prostitution</td>\n",
              "      <td>0.684564</td>\n",
              "      <td>59</td>\n",
              "    </tr>\n",
              "    <tr>\n",
              "      <th>6</th>\n",
              "      <td>slavery</td>\n",
              "      <td>0.626866</td>\n",
              "      <td>23</td>\n",
              "    </tr>\n",
              "    <tr>\n",
              "      <th>7</th>\n",
              "      <td>suicide</td>\n",
              "      <td>0.461538</td>\n",
              "      <td>4</td>\n",
              "    </tr>\n",
              "    <tr>\n",
              "      <th>8</th>\n",
              "      <td>terrorism</td>\n",
              "      <td>0.483516</td>\n",
              "      <td>28</td>\n",
              "    </tr>\n",
              "    <tr>\n",
              "      <th>9</th>\n",
              "      <td>weapons</td>\n",
              "      <td>0.846442</td>\n",
              "      <td>128</td>\n",
              "    </tr>\n",
              "    <tr>\n",
              "      <th>10</th>\n",
              "      <td>body_shaming</td>\n",
              "      <td>0.758974</td>\n",
              "      <td>91</td>\n",
              "    </tr>\n",
              "    <tr>\n",
              "      <th>11</th>\n",
              "      <td>health_shaming</td>\n",
              "      <td>0.783626</td>\n",
              "      <td>79</td>\n",
              "    </tr>\n",
              "    <tr>\n",
              "      <th>12</th>\n",
              "      <td>politics</td>\n",
              "      <td>0.651515</td>\n",
              "      <td>177</td>\n",
              "    </tr>\n",
              "    <tr>\n",
              "      <th>13</th>\n",
              "      <td>racism</td>\n",
              "      <td>0.686667</td>\n",
              "      <td>138</td>\n",
              "    </tr>\n",
              "    <tr>\n",
              "      <th>14</th>\n",
              "      <td>religion</td>\n",
              "      <td>0.844720</td>\n",
              "      <td>74</td>\n",
              "    </tr>\n",
              "    <tr>\n",
              "      <th>15</th>\n",
              "      <td>sexual_minorities</td>\n",
              "      <td>0.613333</td>\n",
              "      <td>63</td>\n",
              "    </tr>\n",
              "    <tr>\n",
              "      <th>16</th>\n",
              "      <td>sexism</td>\n",
              "      <td>0.606383</td>\n",
              "      <td>93</td>\n",
              "    </tr>\n",
              "    <tr>\n",
              "      <th>17</th>\n",
              "      <td>social_injustice</td>\n",
              "      <td>0.442804</td>\n",
              "      <td>134</td>\n",
              "    </tr>\n",
              "    <tr>\n",
              "      <th>18</th>\n",
              "      <td>none</td>\n",
              "      <td>0.655172</td>\n",
              "      <td>no_count</td>\n",
              "    </tr>\n",
              "  </tbody>\n",
              "</table>\n",
              "</div>"
            ],
            "text/plain": [
              "                class        f1 validation_count\n",
              "0       offline_crime  0.535354               93\n",
              "1        online_crime  0.392857               28\n",
              "2               drugs  0.779221               64\n",
              "3            gambling  0.769231                3\n",
              "4         pornography  0.625698              141\n",
              "5        prostitution  0.684564               59\n",
              "6             slavery  0.626866               23\n",
              "7             suicide  0.461538                4\n",
              "8           terrorism  0.483516               28\n",
              "9             weapons  0.846442              128\n",
              "10       body_shaming  0.758974               91\n",
              "11     health_shaming  0.783626               79\n",
              "12           politics  0.651515              177\n",
              "13             racism  0.686667              138\n",
              "14           religion  0.844720               74\n",
              "15  sexual_minorities  0.613333               63\n",
              "16             sexism  0.606383               93\n",
              "17   social_injustice  0.442804              134\n",
              "18               none  0.655172         no_count"
            ]
          },
          "metadata": {
            "tags": []
          },
          "execution_count": 35
        }
      ]
    },
    {
      "cell_type": "code",
      "metadata": {
        "id": "cJCSTGUptWMY"
      },
      "source": [
        ""
      ],
      "execution_count": null,
      "outputs": []
    }
  ]
}